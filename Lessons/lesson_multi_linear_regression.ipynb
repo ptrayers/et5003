{
 "cells": [
  {
   "cell_type": "markdown",
   "id": "c66e7524",
   "metadata": {},
   "source": [
    "\n",
    "# Multiple Linear Regression\n",
    "\n",
    "by Emil Vassev\n",
    "\n",
    "September 17, 2022; September 22, 2022\n",
    "<br><br>\n",
    "Copyright (C) 2022 - All rights reserved, do not copy or distribute without permission of the author.\n",
    "***\n",
    "\n",
    "# Getting Familiar with Multiple Linear Regression \n",
    "Multiple linear regression refers to a statistical technique that is used to predict the outcome of a variable based on the value of two or more variables. It is sometimes known simply as multiple regression, and it is an extension of linear regression. The variable that we want to predict is known as the dependent variable, while the variables we use to predict the value of the dependent variable are known as independent or explanatory variables."
   ]
  },
  {
   "cell_type": "markdown",
   "id": "2db7d7f0",
   "metadata": {},
   "source": [
    "## Real-Life Scenario"
   ]
  },
  {
   "cell_type": "markdown",
   "id": "40159a66",
   "metadata": {},
   "source": [
    "The example data we’re going to analyze is a real-life data about the profit of 50 startups running in the US. What we need to analyze is various expenses such as R&D Spend, Administration expenses, Marketing Spend and the State location of the startup (e.g., California). The Profit is the target.\n",
    "<br><br>\n",
    "Data taken from: https://raw.githubusercontent.com/arib168/data/main/50_Startups.csv\n",
    "<br><br>\n",
    "*Objective*: Train and test a Multiple Linear Regression model to predict the Profit of a startup if it runs in a particular State and has calculated expenses such as R&D Spend, Administration expenses, and Marketing Spend."
   ]
  },
  {
   "cell_type": "markdown",
   "id": "6fe93f07",
   "metadata": {},
   "source": [
    "### Step 1. Load & Analyze Data"
   ]
  },
  {
   "cell_type": "code",
   "execution_count": 1,
   "id": "93f7985e",
   "metadata": {},
   "outputs": [],
   "source": [
    "import pandas as pd\n",
    "df = pd.read_csv('data\\\\50_startups.csv')"
   ]
  },
  {
   "cell_type": "code",
   "execution_count": 2,
   "id": "306ab0a7",
   "metadata": {
    "scrolled": false
   },
   "outputs": [
    {
     "data": {
      "text/html": [
       "<div>\n",
       "<style scoped>\n",
       "    .dataframe tbody tr th:only-of-type {\n",
       "        vertical-align: middle;\n",
       "    }\n",
       "\n",
       "    .dataframe tbody tr th {\n",
       "        vertical-align: top;\n",
       "    }\n",
       "\n",
       "    .dataframe thead th {\n",
       "        text-align: right;\n",
       "    }\n",
       "</style>\n",
       "<table border=\"1\" class=\"dataframe\">\n",
       "  <thead>\n",
       "    <tr style=\"text-align: right;\">\n",
       "      <th></th>\n",
       "      <th>R_D_Spend</th>\n",
       "      <th>Administration</th>\n",
       "      <th>Marketing_Spend</th>\n",
       "      <th>State</th>\n",
       "      <th>Profit</th>\n",
       "    </tr>\n",
       "  </thead>\n",
       "  <tbody>\n",
       "    <tr>\n",
       "      <th>0</th>\n",
       "      <td>165349.20</td>\n",
       "      <td>136897.80</td>\n",
       "      <td>471784.10</td>\n",
       "      <td>New York</td>\n",
       "      <td>192261.83</td>\n",
       "    </tr>\n",
       "    <tr>\n",
       "      <th>1</th>\n",
       "      <td>162597.70</td>\n",
       "      <td>151377.59</td>\n",
       "      <td>443898.53</td>\n",
       "      <td>California</td>\n",
       "      <td>191792.06</td>\n",
       "    </tr>\n",
       "    <tr>\n",
       "      <th>2</th>\n",
       "      <td>153441.51</td>\n",
       "      <td>101145.55</td>\n",
       "      <td>407934.54</td>\n",
       "      <td>Florida</td>\n",
       "      <td>191050.39</td>\n",
       "    </tr>\n",
       "    <tr>\n",
       "      <th>3</th>\n",
       "      <td>144372.41</td>\n",
       "      <td>118671.85</td>\n",
       "      <td>383199.62</td>\n",
       "      <td>New York</td>\n",
       "      <td>182901.99</td>\n",
       "    </tr>\n",
       "    <tr>\n",
       "      <th>4</th>\n",
       "      <td>142107.34</td>\n",
       "      <td>91391.77</td>\n",
       "      <td>366168.42</td>\n",
       "      <td>Florida</td>\n",
       "      <td>166187.94</td>\n",
       "    </tr>\n",
       "    <tr>\n",
       "      <th>5</th>\n",
       "      <td>131876.90</td>\n",
       "      <td>99814.71</td>\n",
       "      <td>362861.36</td>\n",
       "      <td>New York</td>\n",
       "      <td>156991.12</td>\n",
       "    </tr>\n",
       "    <tr>\n",
       "      <th>6</th>\n",
       "      <td>134615.46</td>\n",
       "      <td>147198.87</td>\n",
       "      <td>127716.82</td>\n",
       "      <td>California</td>\n",
       "      <td>156122.51</td>\n",
       "    </tr>\n",
       "    <tr>\n",
       "      <th>7</th>\n",
       "      <td>130298.13</td>\n",
       "      <td>145530.06</td>\n",
       "      <td>323876.68</td>\n",
       "      <td>Florida</td>\n",
       "      <td>155752.60</td>\n",
       "    </tr>\n",
       "    <tr>\n",
       "      <th>8</th>\n",
       "      <td>120542.52</td>\n",
       "      <td>148718.95</td>\n",
       "      <td>311613.29</td>\n",
       "      <td>New York</td>\n",
       "      <td>152211.77</td>\n",
       "    </tr>\n",
       "    <tr>\n",
       "      <th>9</th>\n",
       "      <td>123334.88</td>\n",
       "      <td>108679.17</td>\n",
       "      <td>304981.62</td>\n",
       "      <td>California</td>\n",
       "      <td>149759.96</td>\n",
       "    </tr>\n",
       "  </tbody>\n",
       "</table>\n",
       "</div>"
      ],
      "text/plain": [
       "   R_D_Spend  Administration  Marketing_Spend       State     Profit\n",
       "0  165349.20       136897.80        471784.10    New York  192261.83\n",
       "1  162597.70       151377.59        443898.53  California  191792.06\n",
       "2  153441.51       101145.55        407934.54     Florida  191050.39\n",
       "3  144372.41       118671.85        383199.62    New York  182901.99\n",
       "4  142107.34        91391.77        366168.42     Florida  166187.94\n",
       "5  131876.90        99814.71        362861.36    New York  156991.12\n",
       "6  134615.46       147198.87        127716.82  California  156122.51\n",
       "7  130298.13       145530.06        323876.68     Florida  155752.60\n",
       "8  120542.52       148718.95        311613.29    New York  152211.77\n",
       "9  123334.88       108679.17        304981.62  California  149759.96"
      ]
     },
     "execution_count": 2,
     "metadata": {},
     "output_type": "execute_result"
    }
   ],
   "source": [
    "df.head(10)"
   ]
  },
  {
   "cell_type": "code",
   "execution_count": 3,
   "id": "3f53f712",
   "metadata": {},
   "outputs": [
    {
     "data": {
      "text/plain": [
       "(50, 5)"
      ]
     },
     "execution_count": 3,
     "metadata": {},
     "output_type": "execute_result"
    }
   ],
   "source": [
    "df.shape"
   ]
  },
  {
   "cell_type": "code",
   "execution_count": 4,
   "id": "a8c43878",
   "metadata": {},
   "outputs": [
    {
     "data": {
      "text/html": [
       "<div>\n",
       "<style scoped>\n",
       "    .dataframe tbody tr th:only-of-type {\n",
       "        vertical-align: middle;\n",
       "    }\n",
       "\n",
       "    .dataframe tbody tr th {\n",
       "        vertical-align: top;\n",
       "    }\n",
       "\n",
       "    .dataframe thead th {\n",
       "        text-align: right;\n",
       "    }\n",
       "</style>\n",
       "<table border=\"1\" class=\"dataframe\">\n",
       "  <thead>\n",
       "    <tr style=\"text-align: right;\">\n",
       "      <th></th>\n",
       "      <th>R_D_Spend</th>\n",
       "      <th>Administration</th>\n",
       "      <th>Marketing_Spend</th>\n",
       "      <th>Profit</th>\n",
       "    </tr>\n",
       "  </thead>\n",
       "  <tbody>\n",
       "    <tr>\n",
       "      <th>count</th>\n",
       "      <td>50.000000</td>\n",
       "      <td>50.000000</td>\n",
       "      <td>50.000000</td>\n",
       "      <td>50.000000</td>\n",
       "    </tr>\n",
       "    <tr>\n",
       "      <th>mean</th>\n",
       "      <td>73721.615600</td>\n",
       "      <td>121344.639600</td>\n",
       "      <td>211025.097800</td>\n",
       "      <td>112012.639200</td>\n",
       "    </tr>\n",
       "    <tr>\n",
       "      <th>std</th>\n",
       "      <td>45902.256482</td>\n",
       "      <td>28017.802755</td>\n",
       "      <td>122290.310726</td>\n",
       "      <td>40306.180338</td>\n",
       "    </tr>\n",
       "    <tr>\n",
       "      <th>min</th>\n",
       "      <td>0.000000</td>\n",
       "      <td>51283.140000</td>\n",
       "      <td>0.000000</td>\n",
       "      <td>14681.400000</td>\n",
       "    </tr>\n",
       "    <tr>\n",
       "      <th>25%</th>\n",
       "      <td>39936.370000</td>\n",
       "      <td>103730.875000</td>\n",
       "      <td>129300.132500</td>\n",
       "      <td>90138.902500</td>\n",
       "    </tr>\n",
       "    <tr>\n",
       "      <th>50%</th>\n",
       "      <td>73051.080000</td>\n",
       "      <td>122699.795000</td>\n",
       "      <td>212716.240000</td>\n",
       "      <td>107978.190000</td>\n",
       "    </tr>\n",
       "    <tr>\n",
       "      <th>75%</th>\n",
       "      <td>101602.800000</td>\n",
       "      <td>144842.180000</td>\n",
       "      <td>299469.085000</td>\n",
       "      <td>139765.977500</td>\n",
       "    </tr>\n",
       "    <tr>\n",
       "      <th>max</th>\n",
       "      <td>165349.200000</td>\n",
       "      <td>182645.560000</td>\n",
       "      <td>471784.100000</td>\n",
       "      <td>192261.830000</td>\n",
       "    </tr>\n",
       "  </tbody>\n",
       "</table>\n",
       "</div>"
      ],
      "text/plain": [
       "           R_D_Spend  Administration  Marketing_Spend         Profit\n",
       "count      50.000000       50.000000        50.000000      50.000000\n",
       "mean    73721.615600   121344.639600    211025.097800  112012.639200\n",
       "std     45902.256482    28017.802755    122290.310726   40306.180338\n",
       "min         0.000000    51283.140000         0.000000   14681.400000\n",
       "25%     39936.370000   103730.875000    129300.132500   90138.902500\n",
       "50%     73051.080000   122699.795000    212716.240000  107978.190000\n",
       "75%    101602.800000   144842.180000    299469.085000  139765.977500\n",
       "max    165349.200000   182645.560000    471784.100000  192261.830000"
      ]
     },
     "execution_count": 4,
     "metadata": {},
     "output_type": "execute_result"
    }
   ],
   "source": [
    "#Statistical Details of the dataset\n",
    "df.describe()"
   ]
  },
  {
   "cell_type": "code",
   "execution_count": 5,
   "id": "36581276",
   "metadata": {},
   "outputs": [
    {
     "data": {
      "text/plain": [
       "Index(['R_D_Spend', 'Administration', 'Marketing_Spend', 'State', 'Profit'], dtype='object')"
      ]
     },
     "execution_count": 5,
     "metadata": {},
     "output_type": "execute_result"
    }
   ],
   "source": [
    "df.columns"
   ]
  },
  {
   "cell_type": "markdown",
   "id": "7de473a0",
   "metadata": {},
   "source": [
    "### Step 2. Pre-process Data"
   ]
  },
  {
   "cell_type": "markdown",
   "id": "fc291bdb",
   "metadata": {},
   "source": [
    "State is not a numerical feature – we need to transform it to a numerical."
   ]
  },
  {
   "cell_type": "code",
   "execution_count": 6,
   "id": "1594f016",
   "metadata": {},
   "outputs": [],
   "source": [
    "date_unique = df['State'].unique()\n",
    "class_mapper = {}\n",
    "num = 0\n",
    "for element in date_unique:\n",
    "    num += 1\n",
    "    class_mapper[element] = num\n",
    "    \n",
    "df['State'] = df['State'].replace(class_mapper)  "
   ]
  },
  {
   "cell_type": "code",
   "execution_count": 7,
   "id": "02c0ae4f",
   "metadata": {},
   "outputs": [
    {
     "data": {
      "text/html": [
       "<div>\n",
       "<style scoped>\n",
       "    .dataframe tbody tr th:only-of-type {\n",
       "        vertical-align: middle;\n",
       "    }\n",
       "\n",
       "    .dataframe tbody tr th {\n",
       "        vertical-align: top;\n",
       "    }\n",
       "\n",
       "    .dataframe thead th {\n",
       "        text-align: right;\n",
       "    }\n",
       "</style>\n",
       "<table border=\"1\" class=\"dataframe\">\n",
       "  <thead>\n",
       "    <tr style=\"text-align: right;\">\n",
       "      <th></th>\n",
       "      <th>R_D_Spend</th>\n",
       "      <th>Administration</th>\n",
       "      <th>Marketing_Spend</th>\n",
       "      <th>State</th>\n",
       "      <th>Profit</th>\n",
       "    </tr>\n",
       "  </thead>\n",
       "  <tbody>\n",
       "    <tr>\n",
       "      <th>0</th>\n",
       "      <td>165349.20</td>\n",
       "      <td>136897.80</td>\n",
       "      <td>471784.10</td>\n",
       "      <td>1</td>\n",
       "      <td>192261.83</td>\n",
       "    </tr>\n",
       "    <tr>\n",
       "      <th>1</th>\n",
       "      <td>162597.70</td>\n",
       "      <td>151377.59</td>\n",
       "      <td>443898.53</td>\n",
       "      <td>2</td>\n",
       "      <td>191792.06</td>\n",
       "    </tr>\n",
       "    <tr>\n",
       "      <th>2</th>\n",
       "      <td>153441.51</td>\n",
       "      <td>101145.55</td>\n",
       "      <td>407934.54</td>\n",
       "      <td>3</td>\n",
       "      <td>191050.39</td>\n",
       "    </tr>\n",
       "    <tr>\n",
       "      <th>3</th>\n",
       "      <td>144372.41</td>\n",
       "      <td>118671.85</td>\n",
       "      <td>383199.62</td>\n",
       "      <td>1</td>\n",
       "      <td>182901.99</td>\n",
       "    </tr>\n",
       "    <tr>\n",
       "      <th>4</th>\n",
       "      <td>142107.34</td>\n",
       "      <td>91391.77</td>\n",
       "      <td>366168.42</td>\n",
       "      <td>3</td>\n",
       "      <td>166187.94</td>\n",
       "    </tr>\n",
       "    <tr>\n",
       "      <th>5</th>\n",
       "      <td>131876.90</td>\n",
       "      <td>99814.71</td>\n",
       "      <td>362861.36</td>\n",
       "      <td>1</td>\n",
       "      <td>156991.12</td>\n",
       "    </tr>\n",
       "    <tr>\n",
       "      <th>6</th>\n",
       "      <td>134615.46</td>\n",
       "      <td>147198.87</td>\n",
       "      <td>127716.82</td>\n",
       "      <td>2</td>\n",
       "      <td>156122.51</td>\n",
       "    </tr>\n",
       "    <tr>\n",
       "      <th>7</th>\n",
       "      <td>130298.13</td>\n",
       "      <td>145530.06</td>\n",
       "      <td>323876.68</td>\n",
       "      <td>3</td>\n",
       "      <td>155752.60</td>\n",
       "    </tr>\n",
       "    <tr>\n",
       "      <th>8</th>\n",
       "      <td>120542.52</td>\n",
       "      <td>148718.95</td>\n",
       "      <td>311613.29</td>\n",
       "      <td>1</td>\n",
       "      <td>152211.77</td>\n",
       "    </tr>\n",
       "    <tr>\n",
       "      <th>9</th>\n",
       "      <td>123334.88</td>\n",
       "      <td>108679.17</td>\n",
       "      <td>304981.62</td>\n",
       "      <td>2</td>\n",
       "      <td>149759.96</td>\n",
       "    </tr>\n",
       "  </tbody>\n",
       "</table>\n",
       "</div>"
      ],
      "text/plain": [
       "   R_D_Spend  Administration  Marketing_Spend  State     Profit\n",
       "0  165349.20       136897.80        471784.10      1  192261.83\n",
       "1  162597.70       151377.59        443898.53      2  191792.06\n",
       "2  153441.51       101145.55        407934.54      3  191050.39\n",
       "3  144372.41       118671.85        383199.62      1  182901.99\n",
       "4  142107.34        91391.77        366168.42      3  166187.94\n",
       "5  131876.90        99814.71        362861.36      1  156991.12\n",
       "6  134615.46       147198.87        127716.82      2  156122.51\n",
       "7  130298.13       145530.06        323876.68      3  155752.60\n",
       "8  120542.52       148718.95        311613.29      1  152211.77\n",
       "9  123334.88       108679.17        304981.62      2  149759.96"
      ]
     },
     "execution_count": 7,
     "metadata": {},
     "output_type": "execute_result"
    }
   ],
   "source": [
    "df.head(10)"
   ]
  },
  {
   "cell_type": "markdown",
   "id": "1d3378e9",
   "metadata": {},
   "source": [
    "### Step 3. Train Model"
   ]
  },
  {
   "cell_type": "markdown",
   "id": "ee66558d",
   "metadata": {},
   "source": [
    "We use the **train_test_split** function to split the dataset into a training and testing sets.<br><br>\n",
    "The independent variables X are all the data features, but the Profit feature. The latter is the dependent variable y."
   ]
  },
  {
   "cell_type": "code",
   "execution_count": 8,
   "id": "be0311d2",
   "metadata": {},
   "outputs": [],
   "source": [
    "from sklearn.model_selection import train_test_split"
   ]
  },
  {
   "cell_type": "code",
   "execution_count": 9,
   "id": "be4d2b1a",
   "metadata": {},
   "outputs": [],
   "source": [
    "Y = df.iloc[:, df.columns.get_loc('Profit')]\n",
    "X = df.loc[:, df.columns != 'Profit']"
   ]
  },
  {
   "cell_type": "code",
   "execution_count": 10,
   "id": "4e10abaa",
   "metadata": {},
   "outputs": [],
   "source": [
    "X_train, X_test, Y_train, Y_test = train_test_split(X,Y, test_size=0.2, random_state=0)"
   ]
  },
  {
   "cell_type": "code",
   "execution_count": 11,
   "id": "5658c134",
   "metadata": {
    "scrolled": true
   },
   "outputs": [
    {
     "name": "stdout",
     "output_type": "stream",
     "text": [
      "    R_D_Spend  Administration  Marketing_Spend  State\n",
      "33   55493.95       103057.49        214634.81      3\n",
      "35   46014.02        85047.44        205517.64      1\n",
      "26   75328.87       144135.98        134050.07      3\n",
      "34   46426.07       157693.92        210797.67      2\n",
      "18   91749.16       114175.79        294919.57      3\n",
      "7   130298.13       145530.06        323876.68      3\n",
      "14  119943.24       156547.42        256512.92      3\n",
      "45    1000.23       124153.04          1903.93      1\n",
      "48     542.05        51743.15             0.00      1\n",
      "29   65605.48       153032.06        107138.38      1\n",
      "15  114523.61       122616.84        261776.23      1\n",
      "30   61994.48       115641.28         91131.24      3\n",
      "32   63408.86       129219.61         46085.25      2\n",
      "16   78013.11       121597.55        264346.06      2\n",
      "42   23640.93        96189.63        148001.11      2\n",
      "20   76253.86       113867.30        298664.47      2\n",
      "43   15505.73       127382.30         35534.17      1\n",
      "8   120542.52       148718.95        311613.29      1\n",
      "13   91992.39       135495.07        252664.93      2\n",
      "25   64664.71       139553.16        137962.62      2\n",
      "5   131876.90        99814.71        362861.36      1\n",
      "17   94657.16       145077.58        282574.31      1\n",
      "40   28754.33       118546.05        172795.67      2\n",
      "49       0.00       116983.80         45173.06      2\n",
      "1   162597.70       151377.59        443898.53      2\n",
      "12   93863.75       127320.38        249839.44      3\n",
      "37   44069.95        51283.14        197029.42      2\n",
      "24   77044.01        99281.34        140574.81      1\n",
      "6   134615.46       147198.87        127716.82      2\n",
      "23   67532.53       105751.03        304768.73      3\n",
      "36   28663.76       127056.21        201126.82      3\n",
      "21   78389.47       153773.43        299737.29      1\n",
      "19   86419.70       153514.11             0.00      1\n",
      "9   123334.88       108679.17        304981.62      2\n",
      "39   38558.51        82982.09        174999.30      2\n",
      "46    1315.46       115816.21        297114.46      3\n",
      "3   144372.41       118671.85        383199.62      1\n",
      "0   165349.20       136897.80        471784.10      1\n",
      "47       0.00       135426.92             0.00      2\n",
      "44   22177.74       154806.14         28334.72      2\n"
     ]
    }
   ],
   "source": [
    "print(X_train)"
   ]
  },
  {
   "cell_type": "code",
   "execution_count": 12,
   "id": "565b4c1d",
   "metadata": {},
   "outputs": [
    {
     "name": "stdout",
     "output_type": "stream",
     "text": [
      "33     96778.92\n",
      "35     96479.51\n",
      "26    105733.54\n",
      "34     96712.80\n",
      "18    124266.90\n",
      "7     155752.60\n",
      "14    132602.65\n",
      "45     64926.08\n",
      "48     35673.41\n",
      "29    101004.64\n",
      "15    129917.04\n",
      "30     99937.59\n",
      "32     97427.84\n",
      "16    126992.93\n",
      "42     71498.49\n",
      "20    118474.03\n",
      "43     69758.98\n",
      "8     152211.77\n",
      "13    134307.35\n",
      "25    107404.34\n",
      "5     156991.12\n",
      "17    125370.37\n",
      "40     78239.91\n",
      "49     14681.40\n",
      "1     191792.06\n",
      "12    141585.52\n",
      "37     89949.14\n",
      "24    108552.04\n",
      "6     156122.51\n",
      "23    108733.99\n",
      "36     90708.19\n",
      "21    111313.02\n",
      "19    122776.86\n",
      "9     149759.96\n",
      "39     81005.76\n",
      "46     49490.75\n",
      "3     182901.99\n",
      "0     192261.83\n",
      "47     42559.73\n",
      "44     65200.33\n",
      "Name: Profit, dtype: float64\n"
     ]
    }
   ],
   "source": [
    "print(Y_train)"
   ]
  },
  {
   "cell_type": "markdown",
   "id": "8cc3d4c9",
   "metadata": {},
   "source": [
    "We use the **fit()** method of the **LinearRegression** class to train."
   ]
  },
  {
   "cell_type": "code",
   "execution_count": 13,
   "id": "f02a590b",
   "metadata": {},
   "outputs": [],
   "source": [
    "from sklearn.linear_model import LinearRegression"
   ]
  },
  {
   "cell_type": "code",
   "execution_count": 14,
   "id": "a1435823",
   "metadata": {},
   "outputs": [
    {
     "data": {
      "text/plain": [
       "LinearRegression()"
      ]
     },
     "execution_count": 14,
     "metadata": {},
     "output_type": "execute_result"
    }
   ],
   "source": [
    "lr = LinearRegression()\n",
    "lr.fit(X_train, Y_train)"
   ]
  },
  {
   "cell_type": "markdown",
   "id": "8c338c9f",
   "metadata": {},
   "source": [
    "### Step 4. Make Predictions"
   ]
  },
  {
   "cell_type": "code",
   "execution_count": 15,
   "id": "702624d8",
   "metadata": {},
   "outputs": [],
   "source": [
    "Y_pred = lr.predict(X_test)"
   ]
  },
  {
   "cell_type": "code",
   "execution_count": 16,
   "id": "d4e61f66",
   "metadata": {},
   "outputs": [
    {
     "name": "stdout",
     "output_type": "stream",
     "text": [
      "[103083.22418255 132499.19098469 132504.92013514  72044.22079157\n",
      " 178578.88804813 116196.18897916  67901.09868183  98843.64614762\n",
      " 114025.15059486 167965.96780569]\n"
     ]
    }
   ],
   "source": [
    "print(Y_pred)"
   ]
  },
  {
   "cell_type": "markdown",
   "id": "a9b6169f",
   "metadata": {},
   "source": [
    "### Step 5. Evaluate Model\n",
    "We can use the standard `metrics.r2_score()` method to compare *Y_test* and *Y_pred*."
   ]
  },
  {
   "cell_type": "code",
   "execution_count": 17,
   "id": "2859d676",
   "metadata": {},
   "outputs": [
    {
     "name": "stdout",
     "output_type": "stream",
     "text": [
      "0.9348088470484868\n"
     ]
    }
   ],
   "source": [
    "from sklearn import metrics\n",
    "r2_score = metrics.r2_score(Y_test,Y_pred)\n",
    "print(r2_score)"
   ]
  },
  {
   "cell_type": "code",
   "execution_count": 18,
   "id": "1a73f988",
   "metadata": {},
   "outputs": [
    {
     "name": "stdout",
     "output_type": "stream",
     "text": [
      "28    103282.38\n",
      "11    144259.40\n",
      "10    146121.95\n",
      "41     77798.83\n",
      "2     191050.39\n",
      "27    105008.31\n",
      "38     81229.06\n",
      "31     97483.56\n",
      "22    110352.25\n",
      "4     166187.94\n",
      "Name: Profit, dtype: float64\n"
     ]
    }
   ],
   "source": [
    "print(Y_test)"
   ]
  },
  {
   "cell_type": "code",
   "execution_count": 19,
   "id": "f89fd179",
   "metadata": {
    "scrolled": true
   },
   "outputs": [
    {
     "name": "stdout",
     "output_type": "stream",
     "text": [
      "[103083.22418255 132499.19098469 132504.92013514  72044.22079157\n",
      " 178578.88804813 116196.18897916  67901.09868183  98843.64614762\n",
      " 114025.15059486 167965.96780569]\n"
     ]
    }
   ],
   "source": [
    "print(Y_pred)"
   ]
  },
  {
   "cell_type": "markdown",
   "id": "21f59258",
   "metadata": {},
   "source": [
    "### Step 6. Plot Multiple Linear Regression"
   ]
  },
  {
   "cell_type": "markdown",
   "id": "87661902",
   "metadata": {},
   "source": [
    "Use the actual and predicted profits to plot the results."
   ]
  },
  {
   "cell_type": "code",
   "execution_count": 20,
   "id": "0bd4401c",
   "metadata": {},
   "outputs": [
    {
     "data": {
      "text/plain": [
       "Text(0, 0.5, 'Predicted')"
      ]
     },
     "execution_count": 20,
     "metadata": {},
     "output_type": "execute_result"
    },
    {
     "data": {
      "image/png": "[encoded data removed]",
      "text/plain": [
       "<Figure size 432x288 with 1 Axes>"
      ]
     },
     "metadata": {
      "needs_background": "light"
     },
     "output_type": "display_data"
    }
   ],
   "source": [
    "import matplotlib.pyplot as plt\n",
    "plt.scatter(Y_test,Y_pred)\n",
    "plt.xlabel('Actual')\n",
    "plt.ylabel('Predicted')"
   ]
  },
  {
   "cell_type": "code",
   "execution_count": 21,
   "id": "d15a3f64",
   "metadata": {},
   "outputs": [],
   "source": [
    "import seaborn as sns"
   ]
  },
  {
   "cell_type": "code",
   "execution_count": 22,
   "id": "e5ca2cb0",
   "metadata": {},
   "outputs": [
    {
     "data": {
      "text/plain": [
       "<AxesSubplot:xlabel='Profit'>"
      ]
     },
     "execution_count": 22,
     "metadata": {},
     "output_type": "execute_result"
    },
    {
     "data": {
      "image/png": "[encoded data removed]",
      "text/plain": [
       "<Figure size 432x288 with 1 Axes>"
      ]
     },
     "metadata": {
      "needs_background": "light"
     },
     "output_type": "display_data"
    }
   ],
   "source": [
    "sns.regplot(x=Y_test,y=Y_pred,ci=None,color ='red')"
   ]
  },
  {
   "cell_type": "markdown",
   "id": "f9174fe7",
   "metadata": {},
   "source": [
    "## Feature Importance\n",
    "Feature importance is a score assigned to an input feature by the ML algorithm. The score is calculated based on how useful that feature is at predicting the target variable.\n",
    "<br><br>\n",
    "Feature importance can be used to improve a predictive model by: \n",
    "* removing features with low score;\n",
    "* keeping features with a high score. "
   ]
  },
  {
   "cell_type": "code",
   "execution_count": 23,
   "id": "6651bf94",
   "metadata": {},
   "outputs": [],
   "source": [
    "def showFeatureImportance(lr):\n",
    "    importance = lr.coef_ #the coef_ method returns the feature importance \n",
    "\n",
    "    # summarize feature importance\n",
    "    for i,v in enumerate(importance):\n",
    "        print('Feature: ' + X.columns[i] + ': %.5f' % (v))\n",
    "\n",
    "    #plot feature importance\n",
    "    plt.bar([x for x in range(len(importance))], importance)\n",
    "    plt.show()"
   ]
  },
  {
   "cell_type": "code",
   "execution_count": 24,
   "id": "93c23b35",
   "metadata": {},
   "outputs": [
    {
     "name": "stdout",
     "output_type": "stream",
     "text": [
      "Feature: R_D_Spend: 0.77337\n",
      "Feature: Administration: 0.03289\n",
      "Feature: Marketing_Spend: 0.03655\n",
      "Feature: State: -820.29304\n"
     ]
    },
    {
     "data": {
      "image/png": "[encoded data removed]",
      "text/plain": [
       "<Figure size 432x288 with 1 Axes>"
      ]
     },
     "metadata": {
      "needs_background": "light"
     },
     "output_type": "display_data"
    }
   ],
   "source": [
    "showFeatureImportance(lr)"
   ]
  },
  {
   "cell_type": "markdown",
   "id": "9c3c84b2",
   "metadata": {},
   "source": [
    "*State* is with a negative feature importance. A negative feature importance value means that a feature increases the total loss and therefore, that feature is eventually not good for our model.\n"
   ]
  },
  {
   "cell_type": "code",
   "execution_count": 25,
   "id": "c6e96470",
   "metadata": {},
   "outputs": [],
   "source": [
    "df_no_state = df.copy()\n",
    "df_no_state.drop('State', axis=1, inplace=True)"
   ]
  },
  {
   "cell_type": "code",
   "execution_count": 26,
   "id": "6c7bd4d6",
   "metadata": {},
   "outputs": [],
   "source": [
    "Y = df_no_state.iloc[:, df_no_state.columns.get_loc('Profit')]\n",
    "X = df_no_state.loc[:, df_no_state.columns != 'Profit']"
   ]
  },
  {
   "cell_type": "code",
   "execution_count": 27,
   "id": "a24cd8e9",
   "metadata": {},
   "outputs": [],
   "source": [
    "X_train, X_test, Y_train, Y_test = train_test_split(X,Y, test_size=0.2, random_state=0)"
   ]
  },
  {
   "cell_type": "code",
   "execution_count": 28,
   "id": "d6d51b64",
   "metadata": {},
   "outputs": [
    {
     "data": {
      "text/plain": [
       "LinearRegression()"
      ]
     },
     "execution_count": 28,
     "metadata": {},
     "output_type": "execute_result"
    }
   ],
   "source": [
    "lr = LinearRegression()\n",
    "lr.fit(X_train, Y_train)"
   ]
  },
  {
   "cell_type": "code",
   "execution_count": 29,
   "id": "1d6f72e3",
   "metadata": {},
   "outputs": [],
   "source": [
    "Y_pred = lr.predict(X_test)"
   ]
  },
  {
   "cell_type": "code",
   "execution_count": 30,
   "id": "652609b0",
   "metadata": {},
   "outputs": [
    {
     "name": "stdout",
     "output_type": "stream",
     "text": [
      "28    103282.38\n",
      "11    144259.40\n",
      "10    146121.95\n",
      "41     77798.83\n",
      "2     191050.39\n",
      "27    105008.31\n",
      "38     81229.06\n",
      "31     97483.56\n",
      "22    110352.25\n",
      "4     166187.94\n",
      "Name: Profit, dtype: float64\n"
     ]
    }
   ],
   "source": [
    "print(Y_test)"
   ]
  },
  {
   "cell_type": "code",
   "execution_count": 31,
   "id": "193cc0cc",
   "metadata": {},
   "outputs": [
    {
     "name": "stdout",
     "output_type": "stream",
     "text": [
      "[103901.8969696  132763.05993126 133567.90370044  72911.78976736\n",
      " 179627.92567224 115166.64864795  67113.5769057   98154.80686776\n",
      " 114756.11555221 169064.01408795]\n"
     ]
    }
   ],
   "source": [
    "print(Y_pred)"
   ]
  },
  {
   "cell_type": "code",
   "execution_count": 32,
   "id": "6bebb2f2",
   "metadata": {},
   "outputs": [
    {
     "name": "stdout",
     "output_type": "stream",
     "text": [
      "The r2_score with the State feature: 0.9348088470484868\n",
      "The r2_score without the State feature: 0.9393955917820569\n"
     ]
    }
   ],
   "source": [
    "r2_score_new = metrics.r2_score(Y_test,Y_pred)\n",
    "print(\"The r2_score with the State feature: \" + str(r2_score))\n",
    "print(\"The r2_score without the State feature: \" + str(r2_score_new))"
   ]
  },
  {
   "cell_type": "code",
   "execution_count": 33,
   "id": "1818465d",
   "metadata": {},
   "outputs": [
    {
     "name": "stdout",
     "output_type": "stream",
     "text": [
      "Feature: R_D_Spend: 0.77884\n",
      "Feature: Administration: 0.02939\n",
      "Feature: Marketing_Spend: 0.03471\n"
     ]
    },
    {
     "data": {
      "image/png": "[encoded data removed]",
      "text/plain": [
       "<Figure size 432x288 with 1 Axes>"
      ]
     },
     "metadata": {
      "needs_background": "light"
     },
     "output_type": "display_data"
    }
   ],
   "source": [
    "showFeatureImportance(lr)"
   ]
  },
  {
   "cell_type": "markdown",
   "id": "19aa7b9a",
   "metadata": {},
   "source": [
    "## Multicollinearity\n",
    "Assumption: The independent variables are not highly correlated with each other."
   ]
  },
  {
   "cell_type": "markdown",
   "id": "bf2f7b68",
   "metadata": {},
   "source": [
    "### Get the Realtionships between the Input Variables\n",
    "By using the correlation method **df.corr()**, we can generate the relationship between the continuous variables in our dataframe."
   ]
  },
  {
   "cell_type": "code",
   "execution_count": 34,
   "id": "fee23015",
   "metadata": {},
   "outputs": [
    {
     "data": {
      "text/html": [
       "<div>\n",
       "<style scoped>\n",
       "    .dataframe tbody tr th:only-of-type {\n",
       "        vertical-align: middle;\n",
       "    }\n",
       "\n",
       "    .dataframe tbody tr th {\n",
       "        vertical-align: top;\n",
       "    }\n",
       "\n",
       "    .dataframe thead th {\n",
       "        text-align: right;\n",
       "    }\n",
       "</style>\n",
       "<table border=\"1\" class=\"dataframe\">\n",
       "  <thead>\n",
       "    <tr style=\"text-align: right;\">\n",
       "      <th></th>\n",
       "      <th>R_D_Spend</th>\n",
       "      <th>Administration</th>\n",
       "      <th>Marketing_Spend</th>\n",
       "      <th>State</th>\n",
       "      <th>Profit</th>\n",
       "    </tr>\n",
       "  </thead>\n",
       "  <tbody>\n",
       "    <tr>\n",
       "      <th>R_D_Spend</th>\n",
       "      <td>1.000000</td>\n",
       "      <td>0.241955</td>\n",
       "      <td>0.724248</td>\n",
       "      <td>0.037930</td>\n",
       "      <td>0.972900</td>\n",
       "    </tr>\n",
       "    <tr>\n",
       "      <th>Administration</th>\n",
       "      <td>0.241955</td>\n",
       "      <td>1.000000</td>\n",
       "      <td>-0.032154</td>\n",
       "      <td>0.003026</td>\n",
       "      <td>0.200717</td>\n",
       "    </tr>\n",
       "    <tr>\n",
       "      <th>Marketing_Spend</th>\n",
       "      <td>0.724248</td>\n",
       "      <td>-0.032154</td>\n",
       "      <td>1.000000</td>\n",
       "      <td>0.137777</td>\n",
       "      <td>0.747766</td>\n",
       "    </tr>\n",
       "    <tr>\n",
       "      <th>State</th>\n",
       "      <td>0.037930</td>\n",
       "      <td>0.003026</td>\n",
       "      <td>0.137777</td>\n",
       "      <td>1.000000</td>\n",
       "      <td>0.048471</td>\n",
       "    </tr>\n",
       "    <tr>\n",
       "      <th>Profit</th>\n",
       "      <td>0.972900</td>\n",
       "      <td>0.200717</td>\n",
       "      <td>0.747766</td>\n",
       "      <td>0.048471</td>\n",
       "      <td>1.000000</td>\n",
       "    </tr>\n",
       "  </tbody>\n",
       "</table>\n",
       "</div>"
      ],
      "text/plain": [
       "                 R_D_Spend  Administration  Marketing_Spend     State  \\\n",
       "R_D_Spend         1.000000        0.241955         0.724248  0.037930   \n",
       "Administration    0.241955        1.000000        -0.032154  0.003026   \n",
       "Marketing_Spend   0.724248       -0.032154         1.000000  0.137777   \n",
       "State             0.037930        0.003026         0.137777  1.000000   \n",
       "Profit            0.972900        0.200717         0.747766  0.048471   \n",
       "\n",
       "                   Profit  \n",
       "R_D_Spend        0.972900  \n",
       "Administration   0.200717  \n",
       "Marketing_Spend  0.747766  \n",
       "State            0.048471  \n",
       "Profit           1.000000  "
      ]
     },
     "execution_count": 34,
     "metadata": {},
     "output_type": "execute_result"
    }
   ],
   "source": [
    "df.corr()"
   ]
  },
  {
   "cell_type": "code",
   "execution_count": 35,
   "id": "498b9776",
   "metadata": {},
   "outputs": [
    {
     "data": {
      "text/html": [
       "<div>\n",
       "<style scoped>\n",
       "    .dataframe tbody tr th:only-of-type {\n",
       "        vertical-align: middle;\n",
       "    }\n",
       "\n",
       "    .dataframe tbody tr th {\n",
       "        vertical-align: top;\n",
       "    }\n",
       "\n",
       "    .dataframe thead th {\n",
       "        text-align: right;\n",
       "    }\n",
       "</style>\n",
       "<table border=\"1\" class=\"dataframe\">\n",
       "  <thead>\n",
       "    <tr style=\"text-align: right;\">\n",
       "      <th></th>\n",
       "      <th>R_D_Spend</th>\n",
       "      <th>Administration</th>\n",
       "      <th>Marketing_Spend</th>\n",
       "    </tr>\n",
       "  </thead>\n",
       "  <tbody>\n",
       "    <tr>\n",
       "      <th>R_D_Spend</th>\n",
       "      <td>1.000000</td>\n",
       "      <td>0.241955</td>\n",
       "      <td>0.724248</td>\n",
       "    </tr>\n",
       "    <tr>\n",
       "      <th>Administration</th>\n",
       "      <td>0.241955</td>\n",
       "      <td>1.000000</td>\n",
       "      <td>-0.032154</td>\n",
       "    </tr>\n",
       "    <tr>\n",
       "      <th>Marketing_Spend</th>\n",
       "      <td>0.724248</td>\n",
       "      <td>-0.032154</td>\n",
       "      <td>1.000000</td>\n",
       "    </tr>\n",
       "  </tbody>\n",
       "</table>\n",
       "</div>"
      ],
      "text/plain": [
       "                 R_D_Spend  Administration  Marketing_Spend\n",
       "R_D_Spend         1.000000        0.241955         0.724248\n",
       "Administration    0.241955        1.000000        -0.032154\n",
       "Marketing_Spend   0.724248       -0.032154         1.000000"
      ]
     },
     "execution_count": 35,
     "metadata": {},
     "output_type": "execute_result"
    }
   ],
   "source": [
    "X.corr()"
   ]
  },
  {
   "cell_type": "markdown",
   "id": "cea1b9bc",
   "metadata": {},
   "source": [
    "### Use Regularization to Check for Multicollinearity\n",
    "In order to create less complex model and to avoid multicollinearity we may use some of the Regularization techniques: \n",
    "* L1 regularization - a regression model that uses this technique is called Lasso Regression;\n",
    "* L2 regularization - a regression model that uses this technique is called Ridge Regression.\n",
    "\n",
    "If we have a multicollinearity problem, we may use a Ridge regression, e.g., BayesianRidge ML algorithm. This method performs data regularization (L2 regularization = ridge regression). When the issue of multicollinearity occurs, least-squares are unbiased, and variances are large, this results in predicted values being far away from the actual values."
   ]
  },
  {
   "cell_type": "code",
   "execution_count": 36,
   "id": "cb367f3a",
   "metadata": {},
   "outputs": [],
   "source": [
    "from sklearn.linear_model import BayesianRidge"
   ]
  },
  {
   "cell_type": "code",
   "execution_count": 37,
   "id": "731a06b7",
   "metadata": {
    "scrolled": true
   },
   "outputs": [
    {
     "data": {
      "text/plain": [
       "BayesianRidge()"
      ]
     },
     "execution_count": 37,
     "metadata": {},
     "output_type": "execute_result"
    }
   ],
   "source": [
    "br = BayesianRidge()\n",
    "br.fit(X_train, Y_train)"
   ]
  },
  {
   "cell_type": "code",
   "execution_count": 38,
   "id": "2b48e12e",
   "metadata": {},
   "outputs": [],
   "source": [
    "Y_pred = br.predict(X_test)"
   ]
  },
  {
   "cell_type": "code",
   "execution_count": 39,
   "id": "d87b23e9",
   "metadata": {},
   "outputs": [
    {
     "name": "stdout",
     "output_type": "stream",
     "text": [
      "The LinearRegression r2_score with the State feature: 0.9348088470484868\n",
      "The LinearRegression r2_score without the State feature: 0.9393955917820569\n",
      "The BayesianRidge r2_score without the State feature: 0.9375447257635989\n"
     ]
    }
   ],
   "source": [
    "r2_score_br = metrics.r2_score(Y_test,Y_pred)\n",
    "print(\"The LinearRegression r2_score with the State feature: \" + str(r2_score))\n",
    "print(\"The LinearRegression r2_score without the State feature: \" + str(r2_score_new))\n",
    "print(\"The BayesianRidge r2_score without the State feature: \" + str(r2_score_br))"
   ]
  },
  {
   "cell_type": "markdown",
   "id": "56fe54de",
   "metadata": {},
   "source": [
    "We see that **the score of BayesianRidge** < **the score of LinearRegression**. Hence, we can conclude that we don't have multicollinearity."
   ]
  },
  {
   "cell_type": "code",
   "execution_count": 40,
   "id": "4c5b9518",
   "metadata": {},
   "outputs": [
    {
     "name": "stdout",
     "output_type": "stream",
     "text": [
      "Feature: R_D_Spend: 0.76912\n",
      "Feature: Administration: 0.03378\n",
      "Feature: Marketing_Spend: 0.03724\n"
     ]
    },
    {
     "data": {
      "image/png": "[encoded data removed]",
      "text/plain": [
       "<Figure size 432x288 with 1 Axes>"
      ]
     },
     "metadata": {
      "needs_background": "light"
     },
     "output_type": "display_data"
    }
   ],
   "source": [
    "showFeatureImportance(br)"
   ]
  },
  {
   "cell_type": "code",
   "execution_count": null,
   "id": "fc1ddf20",
   "metadata": {},
   "outputs": [],
   "source": []
  }
 ],
 "metadata": {
  "kernelspec": {
   "display_name": "Python 3 (ipykernel)",
   "language": "python",
   "name": "python3"
  },
  "language_info": {
   "codemirror_mode": {
    "name": "ipython",
    "version": 3
   },
   "file_extension": ".py",
   "mimetype": "text/x-python",
   "name": "python",
   "nbconvert_exporter": "python",
   "pygments_lexer": "ipython3",
   "version": "3.9.7"
  }
 },
 "nbformat": 4,
 "nbformat_minor": 5
}
