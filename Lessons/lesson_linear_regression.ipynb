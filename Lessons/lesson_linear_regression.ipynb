{
 "cells": [
  {
   "cell_type": "markdown",
   "id": "c66e7524",
   "metadata": {},
   "source": [
    "\n",
    "# Linear Regression\n",
    "\n",
    "by Emil Vassev\n",
    "\n",
    "September 17, 2022\n",
    "<br><br>\n",
    "Copyright (C) 2022 - All rights reserved, do not copy or distribute without permission of the author.\n",
    "***"
   ]
  },
  {
   "cell_type": "markdown",
   "id": "d1009a3d",
   "metadata": {},
   "source": [
    "# Getting Familiar with Linear Regression by Using scipy \n",
    "Linear regression is a statistical method to find a line that most approximates the target values."
   ]
  },
  {
   "cell_type": "markdown",
   "id": "bb46f69d",
   "metadata": {},
   "source": [
    "## Step 1. Collect Data"
   ]
  },
  {
   "cell_type": "code",
   "execution_count": 1,
   "id": "2b7b6222",
   "metadata": {},
   "outputs": [
    {
     "data": {
      "image/png": "[encoded data removed]",
      "text/plain": [
       "<Figure size 432x288 with 1 Axes>"
      ]
     },
     "metadata": {
      "needs_background": "light"
     },
     "output_type": "display_data"
    }
   ],
   "source": [
    "import matplotlib.pyplot as plt\n",
    "import random\n",
    "\n",
    "x = []\n",
    "y = []\n",
    "\n",
    "for i in range(1,30):\n",
    "    n = random.randint(1,50)\n",
    "    x.append(n)\n",
    "    n = random.randint(70,72)\n",
    "    y.append(n)\n",
    "\n",
    "plt.ylim([65, 85])\n",
    "plt.scatter(x, y)\n",
    "plt.show()"
   ]
  },
  {
   "cell_type": "markdown",
   "id": "71bb33e1",
   "metadata": {},
   "source": [
    "## Step 2. Import stats"
   ]
  },
  {
   "cell_type": "code",
   "execution_count": 2,
   "id": "cedd4553",
   "metadata": {},
   "outputs": [],
   "source": [
    "from scipy import stats"
   ]
  },
  {
   "cell_type": "markdown",
   "id": "8f5d5f99",
   "metadata": {},
   "source": [
    "## Step 3. Execute linregress \n",
    "* *linregress()* - a method provided by *scypy.stats* that finds a *regression line* for a given set of points\n",
    "* we execute the *linregress* method - it returns some important key values of the Linear Regression"
   ]
  },
  {
   "cell_type": "code",
   "execution_count": 3,
   "id": "8e009185",
   "metadata": {},
   "outputs": [],
   "source": [
    "slope, intercept, r, p, std_err = stats.linregress(x, y)"
   ]
  },
  {
   "cell_type": "markdown",
   "id": "fe5c1b7e",
   "metadata": {},
   "source": [
    "*slope* = 𝛽<sub>1</sub><br>"
   ]
  },
  {
   "cell_type": "code",
   "execution_count": 4,
   "id": "ae3c68d2",
   "metadata": {},
   "outputs": [
    {
     "name": "stdout",
     "output_type": "stream",
     "text": [
      "0.0065422535211267585\n"
     ]
    }
   ],
   "source": [
    "print(slope)"
   ]
  },
  {
   "cell_type": "markdown",
   "id": "e8ffb034",
   "metadata": {},
   "source": [
    "*intercept* = 𝛽<sub>0</sub>"
   ]
  },
  {
   "cell_type": "code",
   "execution_count": 5,
   "id": "fe8a0dce",
   "metadata": {},
   "outputs": [
    {
     "name": "stdout",
     "output_type": "stream",
     "text": [
      "70.70457042253521\n"
     ]
    }
   ],
   "source": [
    "print(intercept)"
   ]
  },
  {
   "cell_type": "markdown",
   "id": "5fac250a",
   "metadata": {},
   "source": [
    "*correlation coefficient* **r**: a number between -1 and 1 (-1 ≤ r ≤ 1):\n",
    "<ul>\n",
    "<li>a value of r close to -1: means that there is negative correlation between the variables (when one increases the other decreases and vice versa)</li>\n",
    "<li>a value of r close to 0: indicates that the variables are not correlated (no linear relationship exists between them)</li>\n",
    "<li>a value of r close to 1: indicates a positive linear relationship between variables (when one increases, the other does too)</li>\n",
    "</ul>"
   ]
  },
  {
   "cell_type": "code",
   "execution_count": 6,
   "id": "040a4e16",
   "metadata": {},
   "outputs": [
    {
     "name": "stdout",
     "output_type": "stream",
     "text": [
      "0.11205954660714589\n"
     ]
    }
   ],
   "source": [
    "print(r)"
   ]
  },
  {
   "cell_type": "markdown",
   "id": "1d51100d",
   "metadata": {},
   "source": [
    "*p-value* **p**: determines the probability of whether the relationships that we observe in our sample also exist in a larger population "
   ]
  },
  {
   "cell_type": "code",
   "execution_count": 7,
   "id": "1e396ba9",
   "metadata": {},
   "outputs": [
    {
     "name": "stdout",
     "output_type": "stream",
     "text": [
      "0.562762993303608\n"
     ]
    }
   ],
   "source": [
    "print(p)"
   ]
  },
  {
   "cell_type": "markdown",
   "id": "99f2d157",
   "metadata": {},
   "source": [
    "*standard error* **std_err**: \n",
    "* determines how is the data fit - higher values mean less precision\n",
    "* the standard error of the estimated intercept, under the assumption of residual normality"
   ]
  },
  {
   "cell_type": "code",
   "execution_count": 8,
   "id": "d5ee2232",
   "metadata": {},
   "outputs": [
    {
     "name": "stdout",
     "output_type": "stream",
     "text": [
      "0.011164841680207484\n"
     ]
    }
   ],
   "source": [
    "print(std_err)"
   ]
  },
  {
   "cell_type": "markdown",
   "id": "39f0f744",
   "metadata": {},
   "source": [
    "## Step 4. Create the Linear Regression Function\n",
    "Create the linear regressio function:\n",
    "* 𝑦 = 𝛽<sub>0</sub>+ 𝛽<sub>1</sub>∗𝑥 \n",
    "\n",
    "This function uses the **intercept** 𝛽<sub>0</sub> and **slope** 𝛽<sub>1</sub> values to return the 𝑦 value. The returned 𝑦  value represents where on the y-axis the corresponding 𝑥 value will be placed."
   ]
  },
  {
   "cell_type": "code",
   "execution_count": 9,
   "id": "a53bb16f",
   "metadata": {},
   "outputs": [],
   "source": [
    "def prduceY(x):\n",
    "  return slope * x + intercept"
   ]
  },
  {
   "cell_type": "markdown",
   "id": "93f82f88",
   "metadata": {},
   "source": [
    "## Step 5. Run the Linear Regression Function on x\n",
    "Run each value of the x array through the function. This will result in a new array with new values for the y-axis."
   ]
  },
  {
   "cell_type": "code",
   "execution_count": 10,
   "id": "b9adaf1b",
   "metadata": {},
   "outputs": [],
   "source": [
    "lr_model = list(map(prduceY, x))"
   ]
  },
  {
   "cell_type": "markdown",
   "id": "cb99dbd0",
   "metadata": {},
   "source": [
    "## Step 6. Plot the Linear Regression"
   ]
  },
  {
   "cell_type": "code",
   "execution_count": 11,
   "id": "09a38c7b",
   "metadata": {
    "scrolled": true
   },
   "outputs": [
    {
     "data": {
      "image/png": "[encoded data removed]",
      "text/plain": [
       "<Figure size 432x288 with 1 Axes>"
      ]
     },
     "metadata": {
      "needs_background": "light"
     },
     "output_type": "display_data"
    }
   ],
   "source": [
    "plt.ylim([65, 85])\n",
    "plt.scatter(x, y)\n",
    "plt.plot(x, lr_model)\n",
    "plt.show()"
   ]
  },
  {
   "cell_type": "markdown",
   "id": "3ca2cf65",
   "metadata": {},
   "source": [
    "# Simple Linear Regression With scikit-learn\n",
    "A scikit-learn linear regression script begins by importing the LinearRegression class."
   ]
  },
  {
   "cell_type": "code",
   "execution_count": 12,
   "id": "fd9de554",
   "metadata": {},
   "outputs": [],
   "source": [
    "from sklearn.linear_model import LinearRegression"
   ]
  },
  {
   "cell_type": "markdown",
   "id": "f84f132c",
   "metadata": {},
   "source": [
    "## Case 1: Randomly-Generated Data"
   ]
  },
  {
   "cell_type": "code",
   "execution_count": 13,
   "id": "7c11a15a",
   "metadata": {},
   "outputs": [
    {
     "name": "stdout",
     "output_type": "stream",
     "text": [
      "[20, 50, 11, 22, 27, 23, 36, 6, 46, 18, 15, 41, 47, 43, 28, 25, 33, 6, 43, 48, 37, 28, 6, 20, 26, 29, 42, 37, 38]\n",
      "[70, 71, 70, 70, 71, 70, 70, 71, 72, 72, 72, 71, 72, 71, 71, 70, 71, 72, 71, 71, 70, 72, 71, 70, 70, 71, 72, 71, 70]\n"
     ]
    }
   ],
   "source": [
    "print(x)\n",
    "print(y)"
   ]
  },
  {
   "cell_type": "markdown",
   "id": "44a884b0",
   "metadata": {},
   "source": [
    "### Step 1. Pre-process Data"
   ]
  },
  {
   "cell_type": "markdown",
   "id": "9c3c8b16",
   "metadata": {},
   "source": [
    "Scikit-Learn's linear regression model expects a 2D input for **x**, and x is currenlty an 1D array. <br><br>\n",
    "We use numpy to reshape an 1D NumPy array to a 2D NumPy array."
   ]
  },
  {
   "cell_type": "code",
   "execution_count": 14,
   "id": "c62c33f8",
   "metadata": {},
   "outputs": [],
   "source": [
    "import numpy as np"
   ]
  },
  {
   "cell_type": "code",
   "execution_count": 15,
   "id": "37e1eeda",
   "metadata": {},
   "outputs": [],
   "source": [
    "x = np.array(x).reshape((-1, 1)) #reshapes an 1D NumPy array to a 2D NumPy array; x needs to be 2D - features with values\n",
    "y = np.array(y)"
   ]
  },
  {
   "cell_type": "markdown",
   "id": "68b66a82",
   "metadata": {},
   "source": [
    "### Step 2. Train Model"
   ]
  },
  {
   "cell_type": "markdown",
   "id": "014ebbd6",
   "metadata": {},
   "source": [
    "We don't split the dataset into a train and test datasets, because it is too small. We train on the entire dataset. "
   ]
  },
  {
   "cell_type": "code",
   "execution_count": 16,
   "id": "a8e41d86",
   "metadata": {},
   "outputs": [],
   "source": [
    "lr = LinearRegression()"
   ]
  },
  {
   "cell_type": "code",
   "execution_count": 17,
   "id": "7928e658",
   "metadata": {
    "scrolled": true
   },
   "outputs": [
    {
     "data": {
      "text/plain": [
       "LinearRegression()"
      ]
     },
     "execution_count": 17,
     "metadata": {},
     "output_type": "execute_result"
    }
   ],
   "source": [
    "lr.fit(x, y)"
   ]
  },
  {
   "cell_type": "markdown",
   "id": "6965e119",
   "metadata": {},
   "source": [
    "If no errors are thrown, then the regressor found the best fitting line.<br><br>\n",
    "The line is defined by **x** and **y** (the features), and by the **intercept** and **slope**. In fact, we can inspect both the **intercept** and **slope** from the `lr.intecept_` and `lr.coef_` attributes, respectively."
   ]
  },
  {
   "cell_type": "code",
   "execution_count": 18,
   "id": "0fda94fa",
   "metadata": {
    "scrolled": false
   },
   "outputs": [
    {
     "name": "stdout",
     "output_type": "stream",
     "text": [
      "intercept: 70.70457042253521\n",
      "slope: [0.00654225]\n"
     ]
    }
   ],
   "source": [
    "print(f\"intercept: {lr.intercept_}\")\n",
    "\n",
    "print(f\"slope: {lr.coef_}\")"
   ]
  },
  {
   "cell_type": "code",
   "execution_count": 19,
   "id": "b9d50355",
   "metadata": {},
   "outputs": [
    {
     "name": "stdout",
     "output_type": "stream",
     "text": [
      "coefficient of determination: 0.012557341985803272\n"
     ]
    }
   ],
   "source": [
    "sq = lr.score(x, y)\n",
    "print(f\"coefficient of determination: {sq}\")"
   ]
  },
  {
   "cell_type": "markdown",
   "id": "0ef69bd7",
   "metadata": {},
   "source": [
    "### Step 3. Draw Linear Regression Line"
   ]
  },
  {
   "cell_type": "markdown",
   "id": "8ace9f80",
   "metadata": {},
   "source": [
    "We use the previously-defined Linear Regression function `prduceY(x)` to generate **y** values for the line:\n",
    "```python\n",
    "def prduceY(x):\n",
    "  return slope * x + intercept\n",
    "```"
   ]
  },
  {
   "cell_type": "code",
   "execution_count": 20,
   "id": "7307e7c2",
   "metadata": {},
   "outputs": [],
   "source": [
    "intercept = lr.intercept_\n",
    "slope = lr.coef_\n",
    "lr_model = list(map(prduceY, x))"
   ]
  },
  {
   "cell_type": "code",
   "execution_count": 21,
   "id": "b654d379",
   "metadata": {},
   "outputs": [
    {
     "data": {
      "image/png": "[encoded data removed]",
      "text/plain": [
       "<Figure size 432x288 with 1 Axes>"
      ]
     },
     "metadata": {
      "needs_background": "light"
     },
     "output_type": "display_data"
    }
   ],
   "source": [
    "plt.ylim([65, 85])\n",
    "plt.scatter(x, y)\n",
    "plt.plot(x, lr_model)\n",
    "plt.show()"
   ]
  },
  {
   "cell_type": "markdown",
   "id": "12ba1395",
   "metadata": {},
   "source": [
    "### Step 4. Make Predictions"
   ]
  },
  {
   "cell_type": "code",
   "execution_count": 22,
   "id": "c5d40388",
   "metadata": {},
   "outputs": [],
   "source": [
    "y_pred = lr.predict(x)"
   ]
  },
  {
   "cell_type": "code",
   "execution_count": 23,
   "id": "ee636e0e",
   "metadata": {},
   "outputs": [
    {
     "name": "stdout",
     "output_type": "stream",
     "text": [
      "[70 71 70 70 71 70 70 71 72 72 72 71 72 71 71 70 71 72 71 71 70 72 71 70\n",
      " 70 71 72 71 70]\n"
     ]
    }
   ],
   "source": [
    "print(y)"
   ]
  },
  {
   "cell_type": "code",
   "execution_count": 24,
   "id": "a46e3ed1",
   "metadata": {},
   "outputs": [
    {
     "name": "stdout",
     "output_type": "stream",
     "text": [
      "[70.83541549 71.0316831  70.77653521 70.8485     70.88121127 70.85504225\n",
      " 70.94009155 70.74382394 71.00551408 70.82233099 70.80270423 70.97280282\n",
      " 71.01205634 70.98588732 70.88775352 70.86812676 70.92046479 70.74382394\n",
      " 70.98588732 71.01859859 70.9466338  70.88775352 70.74382394 70.83541549\n",
      " 70.87466901 70.89429577 70.97934507 70.9466338  70.95317606]\n"
     ]
    }
   ],
   "source": [
    "print(y_pred)"
   ]
  },
  {
   "cell_type": "markdown",
   "id": "ddbd3c1f",
   "metadata": {},
   "source": [
    "### Step 5. Evaluate Model"
   ]
  },
  {
   "cell_type": "code",
   "execution_count": 25,
   "id": "28e025d8",
   "metadata": {},
   "outputs": [
    {
     "name": "stdout",
     "output_type": "stream",
     "text": [
      "0.012557341985803272\n"
     ]
    }
   ],
   "source": [
    "from sklearn import metrics\n",
    "print(metrics.r2_score(y, y_pred))"
   ]
  },
  {
   "cell_type": "markdown",
   "id": "2db7d7f0",
   "metadata": {},
   "source": [
    "## Case 2: Real-Life Scenario"
   ]
  },
  {
   "cell_type": "markdown",
   "id": "40159a66",
   "metadata": {},
   "source": [
    "The example data we’re going to analyze is a relative *sales performance* of the sector “Computer and Technology” to the sector “Business Services”. The ratio “Computer and Technology”/“Business Services\" determines the relative sales performance per date.\n",
    "<br><br>\n",
    "Data taken from: https://drive.google.com/file/d/1Cd2ibwcPYFZPw-wl_Cfjr2Jmo1ziI8mc/view?usp=sharings\n",
    "<br><br>\n",
    "*Objective*: Train and test a Linear Regression model to predict the relative sales performance. "
   ]
  },
  {
   "cell_type": "markdown",
   "id": "6fe93f07",
   "metadata": {},
   "source": [
    "### Step 1. Load Data"
   ]
  },
  {
   "cell_type": "code",
   "execution_count": 26,
   "id": "93f7985e",
   "metadata": {},
   "outputs": [],
   "source": [
    "import pandas as pd\n",
    "\n",
    "url_csv = 'https://raw.githubusercontent.com/evassev/CS6501_SEM2_2022/main/Lessons/data/relative_price_change_CTtoBS_table.csv'\n",
    "\n",
    "#df = pd.read_csv('data\\\\relative_price_change_CTtoBS_table.csv')\n",
    "\n",
    "df = pd.read_csv(url_csv)"
   ]
  },
  {
   "cell_type": "code",
   "execution_count": 27,
   "id": "306ab0a7",
   "metadata": {
    "scrolled": false
   },
   "outputs": [
    {
     "data": {
      "text/html": [
       "<div>\n",
       "<style scoped>\n",
       "    .dataframe tbody tr th:only-of-type {\n",
       "        vertical-align: middle;\n",
       "    }\n",
       "\n",
       "    .dataframe tbody tr th {\n",
       "        vertical-align: top;\n",
       "    }\n",
       "\n",
       "    .dataframe thead th {\n",
       "        text-align: right;\n",
       "    }\n",
       "</style>\n",
       "<table border=\"1\" class=\"dataframe\">\n",
       "  <thead>\n",
       "    <tr style=\"text-align: right;\">\n",
       "      <th></th>\n",
       "      <th>date</th>\n",
       "      <th>relative_price_change_CTtoBS</th>\n",
       "    </tr>\n",
       "  </thead>\n",
       "  <tbody>\n",
       "    <tr>\n",
       "      <th>0</th>\n",
       "      <td>2020-01-02</td>\n",
       "      <td>1.000000</td>\n",
       "    </tr>\n",
       "    <tr>\n",
       "      <th>1</th>\n",
       "      <td>2020-01-03</td>\n",
       "      <td>0.994549</td>\n",
       "    </tr>\n",
       "    <tr>\n",
       "      <th>2</th>\n",
       "      <td>2020-01-06</td>\n",
       "      <td>0.999416</td>\n",
       "    </tr>\n",
       "    <tr>\n",
       "      <th>3</th>\n",
       "      <td>2020-01-07</td>\n",
       "      <td>1.004152</td>\n",
       "    </tr>\n",
       "    <tr>\n",
       "      <th>4</th>\n",
       "      <td>2020-01-08</td>\n",
       "      <td>1.002922</td>\n",
       "    </tr>\n",
       "    <tr>\n",
       "      <th>5</th>\n",
       "      <td>2020-01-09</td>\n",
       "      <td>1.004308</td>\n",
       "    </tr>\n",
       "    <tr>\n",
       "      <th>6</th>\n",
       "      <td>2020-01-10</td>\n",
       "      <td>1.002880</td>\n",
       "    </tr>\n",
       "    <tr>\n",
       "      <th>7</th>\n",
       "      <td>2020-01-13</td>\n",
       "      <td>1.006260</td>\n",
       "    </tr>\n",
       "    <tr>\n",
       "      <th>8</th>\n",
       "      <td>2020-01-14</td>\n",
       "      <td>1.006481</td>\n",
       "    </tr>\n",
       "    <tr>\n",
       "      <th>9</th>\n",
       "      <td>2020-01-15</td>\n",
       "      <td>0.995184</td>\n",
       "    </tr>\n",
       "  </tbody>\n",
       "</table>\n",
       "</div>"
      ],
      "text/plain": [
       "         date  relative_price_change_CTtoBS\n",
       "0  2020-01-02                      1.000000\n",
       "1  2020-01-03                      0.994549\n",
       "2  2020-01-06                      0.999416\n",
       "3  2020-01-07                      1.004152\n",
       "4  2020-01-08                      1.002922\n",
       "5  2020-01-09                      1.004308\n",
       "6  2020-01-10                      1.002880\n",
       "7  2020-01-13                      1.006260\n",
       "8  2020-01-14                      1.006481\n",
       "9  2020-01-15                      0.995184"
      ]
     },
     "execution_count": 27,
     "metadata": {},
     "output_type": "execute_result"
    }
   ],
   "source": [
    "df.head(10)"
   ]
  },
  {
   "cell_type": "code",
   "execution_count": 28,
   "id": "3f53f712",
   "metadata": {},
   "outputs": [
    {
     "data": {
      "text/plain": [
       "(327, 2)"
      ]
     },
     "execution_count": 28,
     "metadata": {},
     "output_type": "execute_result"
    }
   ],
   "source": [
    "df.shape"
   ]
  },
  {
   "cell_type": "markdown",
   "id": "f2bdc665",
   "metadata": {},
   "source": [
    "### Step 2. Plot Data"
   ]
  },
  {
   "cell_type": "code",
   "execution_count": 29,
   "id": "58dfaf68",
   "metadata": {
    "scrolled": true
   },
   "outputs": [
    {
     "data": {
      "image/png": "[encoded data removed]",
      "text/plain": [
       "<Figure size 432x288 with 1 Axes>"
      ]
     },
     "metadata": {
      "needs_background": "light"
     },
     "output_type": "display_data"
    }
   ],
   "source": [
    "plt.ylim([0.94, 1.25])\n",
    "plt.scatter(df['date'], df['relative_price_change_CTtoBS'])\n",
    "plt.show()"
   ]
  },
  {
   "cell_type": "markdown",
   "id": "268d2c6d",
   "metadata": {},
   "source": [
    "We can sometimes find a pattern on a graph in financial analysis. If the pattern/shape of the graph is close to a line, we apply linear regression. The graph above shows the relative sales performance, and you can see that it’s close to linear."
   ]
  },
  {
   "cell_type": "markdown",
   "id": "7de473a0",
   "metadata": {},
   "source": [
    "### Step 3. Pre-process Data"
   ]
  },
  {
   "cell_type": "markdown",
   "id": "2f46b1f8",
   "metadata": {},
   "source": [
    "ML works with numerical data only. Aa we can see, the \"date\" feature is not numerical."
   ]
  },
  {
   "cell_type": "code",
   "execution_count": 30,
   "id": "51cb4c49",
   "metadata": {},
   "outputs": [
    {
     "data": {
      "text/plain": [
       "date                             object\n",
       "relative_price_change_CTtoBS    float64\n",
       "dtype: object"
      ]
     },
     "execution_count": 30,
     "metadata": {},
     "output_type": "execute_result"
    }
   ],
   "source": [
    "df.dtypes"
   ]
  },
  {
   "cell_type": "markdown",
   "id": "2f3eb1d5",
   "metadata": {},
   "source": [
    "We convert a time-series data to a series of numbers."
   ]
  },
  {
   "cell_type": "code",
   "execution_count": 31,
   "id": "1594f016",
   "metadata": {},
   "outputs": [],
   "source": [
    "date_unique = df['date'].unique()\n",
    "class_mapper = {}\n",
    "num = 0\n",
    "for element in date_unique:\n",
    "    num += 1\n",
    "    class_mapper[element] = num\n",
    "    \n",
    "df['date'] = df['date'].replace(class_mapper)  "
   ]
  },
  {
   "cell_type": "code",
   "execution_count": 32,
   "id": "85d0b616",
   "metadata": {},
   "outputs": [
    {
     "data": {
      "text/html": [
       "<div>\n",
       "<style scoped>\n",
       "    .dataframe tbody tr th:only-of-type {\n",
       "        vertical-align: middle;\n",
       "    }\n",
       "\n",
       "    .dataframe tbody tr th {\n",
       "        vertical-align: top;\n",
       "    }\n",
       "\n",
       "    .dataframe thead th {\n",
       "        text-align: right;\n",
       "    }\n",
       "</style>\n",
       "<table border=\"1\" class=\"dataframe\">\n",
       "  <thead>\n",
       "    <tr style=\"text-align: right;\">\n",
       "      <th></th>\n",
       "      <th>date</th>\n",
       "      <th>relative_price_change_CTtoBS</th>\n",
       "    </tr>\n",
       "  </thead>\n",
       "  <tbody>\n",
       "    <tr>\n",
       "      <th>0</th>\n",
       "      <td>1</td>\n",
       "      <td>1.000000</td>\n",
       "    </tr>\n",
       "    <tr>\n",
       "      <th>1</th>\n",
       "      <td>2</td>\n",
       "      <td>0.994549</td>\n",
       "    </tr>\n",
       "    <tr>\n",
       "      <th>2</th>\n",
       "      <td>3</td>\n",
       "      <td>0.999416</td>\n",
       "    </tr>\n",
       "    <tr>\n",
       "      <th>3</th>\n",
       "      <td>4</td>\n",
       "      <td>1.004152</td>\n",
       "    </tr>\n",
       "    <tr>\n",
       "      <th>4</th>\n",
       "      <td>5</td>\n",
       "      <td>1.002922</td>\n",
       "    </tr>\n",
       "    <tr>\n",
       "      <th>5</th>\n",
       "      <td>6</td>\n",
       "      <td>1.004308</td>\n",
       "    </tr>\n",
       "    <tr>\n",
       "      <th>6</th>\n",
       "      <td>7</td>\n",
       "      <td>1.002880</td>\n",
       "    </tr>\n",
       "    <tr>\n",
       "      <th>7</th>\n",
       "      <td>8</td>\n",
       "      <td>1.006260</td>\n",
       "    </tr>\n",
       "    <tr>\n",
       "      <th>8</th>\n",
       "      <td>9</td>\n",
       "      <td>1.006481</td>\n",
       "    </tr>\n",
       "    <tr>\n",
       "      <th>9</th>\n",
       "      <td>10</td>\n",
       "      <td>0.995184</td>\n",
       "    </tr>\n",
       "  </tbody>\n",
       "</table>\n",
       "</div>"
      ],
      "text/plain": [
       "   date  relative_price_change_CTtoBS\n",
       "0     1                      1.000000\n",
       "1     2                      0.994549\n",
       "2     3                      0.999416\n",
       "3     4                      1.004152\n",
       "4     5                      1.002922\n",
       "5     6                      1.004308\n",
       "6     7                      1.002880\n",
       "7     8                      1.006260\n",
       "8     9                      1.006481\n",
       "9    10                      0.995184"
      ]
     },
     "execution_count": 32,
     "metadata": {},
     "output_type": "execute_result"
    }
   ],
   "source": [
    "df.head(10)"
   ]
  },
  {
   "cell_type": "markdown",
   "id": "1d3378e9",
   "metadata": {},
   "source": [
    "### Step 4. Train Model"
   ]
  },
  {
   "cell_type": "markdown",
   "id": "ee66558d",
   "metadata": {},
   "source": [
    "We use the **train_test_split** function to split the dataset into a training and testing sets.<br><br>\n",
    "The independent variable x is the date feature, and the dependent variable y is the price ratio."
   ]
  },
  {
   "cell_type": "code",
   "execution_count": 33,
   "id": "be0311d2",
   "metadata": {},
   "outputs": [],
   "source": [
    "from sklearn.model_selection import train_test_split"
   ]
  },
  {
   "cell_type": "code",
   "execution_count": 34,
   "id": "be4d2b1a",
   "metadata": {},
   "outputs": [],
   "source": [
    "Y = df.iloc[:, df.columns.get_loc('relative_price_change_CTtoBS')]\n",
    "X = df.loc[:, df.columns != 'relative_price_change_CTtoBS']"
   ]
  },
  {
   "cell_type": "code",
   "execution_count": 35,
   "id": "4e10abaa",
   "metadata": {},
   "outputs": [],
   "source": [
    "X_train, X_test, Y_train, Y_test = train_test_split(X,Y, test_size=0.2, random_state=0)"
   ]
  },
  {
   "cell_type": "code",
   "execution_count": 36,
   "id": "5658c134",
   "metadata": {},
   "outputs": [
    {
     "name": "stdout",
     "output_type": "stream",
     "text": [
      "     date\n",
      "1       2\n",
      "298   299\n",
      "8       9\n",
      "213   214\n",
      "101   102\n",
      "..    ...\n",
      "251   252\n",
      "192   193\n",
      "117   118\n",
      "47     48\n",
      "172   173\n",
      "\n",
      "[261 rows x 1 columns]\n"
     ]
    }
   ],
   "source": [
    "print(X_train)"
   ]
  },
  {
   "cell_type": "code",
   "execution_count": 37,
   "id": "565b4c1d",
   "metadata": {},
   "outputs": [
    {
     "name": "stdout",
     "output_type": "stream",
     "text": [
      "1      0.994549\n",
      "298    1.094579\n",
      "8      1.006481\n",
      "213    1.131401\n",
      "101    1.051574\n",
      "         ...   \n",
      "251    1.123541\n",
      "192    1.068596\n",
      "117    1.074146\n",
      "47     0.979618\n",
      "172    1.069750\n",
      "Name: relative_price_change_CTtoBS, Length: 261, dtype: float64\n"
     ]
    }
   ],
   "source": [
    "print(Y_train)"
   ]
  },
  {
   "cell_type": "code",
   "execution_count": 38,
   "id": "a1435823",
   "metadata": {},
   "outputs": [
    {
     "data": {
      "text/plain": [
       "LinearRegression()"
      ]
     },
     "execution_count": 38,
     "metadata": {},
     "output_type": "execute_result"
    }
   ],
   "source": [
    "lr = LinearRegression()\n",
    "lr.fit(X_train, Y_train)"
   ]
  },
  {
   "cell_type": "markdown",
   "id": "1c805ebe",
   "metadata": {},
   "source": [
    "### Step 5. Draw Linear Regression Line"
   ]
  },
  {
   "cell_type": "markdown",
   "id": "6253d4df",
   "metadata": {},
   "source": [
    "If no errors are thrown by the `lr.fit(X_train, Y_train)` method, then the regressor found the best fitting line.<br><br>\n",
    "The line is defined by **x** and **y** (the features), and by the **intercept** and **slope**. We can inspect both the **intercept** and **slope** from the `lr.intecept_` and `lr.coef_` attributes, respectively."
   ]
  },
  {
   "cell_type": "code",
   "execution_count": 39,
   "id": "0ee8cf12",
   "metadata": {},
   "outputs": [],
   "source": [
    "intercept = lr.intercept_\n",
    "slope = lr.coef_"
   ]
  },
  {
   "cell_type": "markdown",
   "id": "6f76a495",
   "metadata": {},
   "source": [
    "We use the previously-defined Linear Regression function `prduceY(x)` to generate **y** values for the line:\n",
    "```python\n",
    "def prduceY(x):\n",
    "  return slope * x + intercept\n",
    "```"
   ]
  },
  {
   "cell_type": "code",
   "execution_count": 40,
   "id": "74d1e3f6",
   "metadata": {},
   "outputs": [],
   "source": [
    "lr_model = list(map(prduceY, df['date']))"
   ]
  },
  {
   "cell_type": "code",
   "execution_count": 41,
   "id": "6a49e263",
   "metadata": {},
   "outputs": [
    {
     "data": {
      "image/png": "[encoded data removed]",
      "text/plain": [
       "<Figure size 432x288 with 1 Axes>"
      ]
     },
     "metadata": {
      "needs_background": "light"
     },
     "output_type": "display_data"
    }
   ],
   "source": [
    "plt.ylim([0.94, 1.25])\n",
    "plt.scatter(df['date'], df['relative_price_change_CTtoBS'])\n",
    "plt.plot(df['date'], lr_model)\n",
    "plt.show()"
   ]
  },
  {
   "cell_type": "markdown",
   "id": "8c338c9f",
   "metadata": {},
   "source": [
    "### Step 6. Make Predictions"
   ]
  },
  {
   "cell_type": "code",
   "execution_count": 42,
   "id": "702624d8",
   "metadata": {},
   "outputs": [],
   "source": [
    "Y_pred = lr.predict(X_test)"
   ]
  },
  {
   "cell_type": "markdown",
   "id": "a9b6169f",
   "metadata": {},
   "source": [
    "### Step 7. Evaluate Model\n",
    "After looking at the data, seeing a linear relationship, training and testing our model, we can understand how well it predicts by using some metrics. We can use the standard `metrics.r2_score()` method to compare *Y_test* and *Y_pred*."
   ]
  },
  {
   "cell_type": "code",
   "execution_count": 43,
   "id": "2859d676",
   "metadata": {},
   "outputs": [
    {
     "name": "stdout",
     "output_type": "stream",
     "text": [
      "0.8070774218375065\n"
     ]
    }
   ],
   "source": [
    "from sklearn import metrics\n",
    "print(metrics.r2_score(Y_test,Y_pred))"
   ]
  },
  {
   "cell_type": "code",
   "execution_count": 44,
   "id": "1a73f988",
   "metadata": {},
   "outputs": [
    {
     "name": "stdout",
     "output_type": "stream",
     "text": [
      "122    1.064674\n",
      "66     1.039493\n",
      "142    1.066175\n",
      "245    1.129208\n",
      "146    1.091940\n",
      "         ...   \n",
      "234    1.100208\n",
      "74     1.088447\n",
      "52     1.021727\n",
      "235    1.100239\n",
      "214    1.136850\n",
      "Name: relative_price_change_CTtoBS, Length: 66, dtype: float64\n"
     ]
    }
   ],
   "source": [
    "print(Y_test)"
   ]
  },
  {
   "cell_type": "code",
   "execution_count": 45,
   "id": "f89fd179",
   "metadata": {
    "scrolled": true
   },
   "outputs": [
    {
     "name": "stdout",
     "output_type": "stream",
     "text": [
      "[1.06015067 1.02910122 1.07123976 1.12834857 1.07345758 1.02743785\n",
      " 1.14110103 1.00082404 1.06791303 1.07234867 1.14220994 1.02522004\n",
      " 1.00692304 1.03021013 1.11005158 1.13056639 1.07955658 1.05238831\n",
      " 1.02577449 1.16937821 1.10838821 1.12114067 1.08676449 1.1560713\n",
      " 1.16771484 1.15828912 1.16272475 1.11393276 1.14331885 1.08731894\n",
      " 1.09674467 1.12446739 1.11448721 0.9963884  0.99583395 1.02355667\n",
      " 1.02300222 1.00470522 1.05904176 1.02799231 1.15551684 1.00415077\n",
      " 1.06680412 1.13721985 0.99916068 1.11559612 1.08011103 1.08565558\n",
      " 1.04906158 1.05682394 1.00193295 1.07013085 1.03464576 1.12945748\n",
      " 1.04795267 1.09785358 1.09452685 1.02854676 1.03741804 1.16327921\n",
      " 1.07733876 1.12224957 1.03353685 1.02133886 1.12280403 1.11116048]\n"
     ]
    }
   ],
   "source": [
    "print(Y_pred)"
   ]
  },
  {
   "attachments": {
    "image-2.png": {
     "image/png": "[encoded data removed]"
    },
    "image-3.png": {
     "image/png": "[encoded data removed]"
    },
    "image.png": {
     "image/png": "[encoded data removed]"
    }
   },
   "cell_type": "markdown",
   "id": "a9e05e28",
   "metadata": {},
   "source": [
    "For Linear Regression, other evaluation metrics are mainly used:\n",
    "* *Mean Squared Error (MSE)*: Squares the absolute values of the errors. Also, as with MAE, the smaller, or closer to 0, the better. The MSE value is squared so as to make large errors even larger. One thing to pay close attention to, it that it is usually a hard metric to interpret due to the size of its values and of the fact that they aren't in the same scale of the data.\n",
    "<div>\n",
    "<img src=\"attachment:image-2.png\" width=\"200\"/>\n",
    "</div>\n",
    "\n",
    "* *Root Mean Squared Error (RMSE)*: Tries to solve the interpretation problem raised with the MSE by getting the square root of its final value, so as to scale it back to the same units of the data. It is easier to interpret and good when we need to display or show the actual value of the data with the error. It shows how much the data may vary, so, if we have an RMSE of 0.02, our model can make an error either because it added 0.02 to the actual value, or needed 0.02 to get to the actual value. The closer to 0, the better as well.\n",
    "<div>\n",
    "<img src=\"attachment:image-3.png\" width=\"200\"/>\n",
    "</div>\n",
    "\n",
    "* *Mean Absolute Error (MAE)*: When we subtract the predicted values from the actual values, obtaining the errors, sum the absolute values of those errors and get their mean. This metric gives a notion of the overall error for each prediction of the model, the smaller (closer to 0) the better.\n",
    "<div>\n",
    "<img src=\"attachment:image.png\" width=\"200\"/>\n",
    "</div>"
   ]
  },
  {
   "cell_type": "code",
   "execution_count": 46,
   "id": "ec41f16c",
   "metadata": {},
   "outputs": [],
   "source": [
    "from sklearn.metrics import mean_absolute_error, mean_squared_error"
   ]
  },
  {
   "cell_type": "code",
   "execution_count": 47,
   "id": "0a33b935",
   "metadata": {},
   "outputs": [],
   "source": [
    "mse = mean_squared_error(Y_test, Y_pred)\n",
    "rmse = np.sqrt(mse)\n",
    "mae = mean_absolute_error(Y_test, Y_pred)"
   ]
  },
  {
   "cell_type": "code",
   "execution_count": 48,
   "id": "c2efe8f1",
   "metadata": {},
   "outputs": [
    {
     "name": "stdout",
     "output_type": "stream",
     "text": [
      "Mean squared error: 0.00\n",
      "Root mean squared error: 0.02\n",
      "Mean absolute error: 0.02\n"
     ]
    }
   ],
   "source": [
    "print(f'Mean squared error: {mse:.2f}')\n",
    "print(f'Root mean squared error: {rmse:.2f}')\n",
    "print(f'Mean absolute error: {mae:.2f}')"
   ]
  },
  {
   "cell_type": "markdown",
   "id": "7ff83270",
   "metadata": {},
   "source": [
    "All the errors are low - and we're missing the actual value by 0.02 (MAE) at most (lower or higher), which is a pretty small range considering the data we have."
   ]
  },
  {
   "cell_type": "code",
   "execution_count": null,
   "id": "6651bf94",
   "metadata": {},
   "outputs": [],
   "source": []
  }
 ],
 "metadata": {
  "kernelspec": {
   "display_name": "Python 3 (ipykernel)",
   "language": "python",
   "name": "python3"
  },
  "language_info": {
   "codemirror_mode": {
    "name": "ipython",
    "version": 3
   },
   "file_extension": ".py",
   "mimetype": "text/x-python",
   "name": "python",
   "nbconvert_exporter": "python",
   "pygments_lexer": "ipython3",
   "version": "3.9.7"
  }
 },
 "nbformat": 4,
 "nbformat_minor": 5
}
