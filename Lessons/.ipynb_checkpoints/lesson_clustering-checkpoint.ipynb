{
 "cells": [
  {
   "cell_type": "markdown",
   "metadata": {},
   "source": [
    "# Clustering ML Models with Python\n",
    "\n",
    "by Emil Vassev\n",
    "\n",
    "October 16-19, 2022\n",
    "<br><br>\n",
    "Copyright (C) 2022 - All rights reserved, do not copy or distribute without permission of the author.\n",
    "***"
   ]
  },
  {
   "cell_type": "markdown",
   "metadata": {},
   "source": [
    "## Definitions\n",
    "\n",
    "**Cluster**\n",
    "* a group of similar entities positioned or occurring closely together\n",
    "* a collection of objects on the basis of similarity and dissimilarity between them\n",
    "\n",
    "**The role of ML**\n",
    "* usually, all points in a cluster depict similar characteristics ML could be used to identify traits and segregate clusters\n",
    "\n",
    "**Clustering**\n",
    "* dividing data points into multiple clusters of similar values\n",
    "    * the objective is to segregate groups with similar traits and bundle them together into different clusters\n",
    "* a type of unsupervised learning method - we draw references from datasets consisting of input data without labeled responses\n",
    "    * determines the intrinsic grouping among the unlabeled data"
   ]
  },
  {
   "cell_type": "markdown",
   "metadata": {},
   "source": [
    "## Types of Clustering Models\n",
    "\n",
    "**Connectivity Models** - classify data points based on their closeness, i e based on the\n",
    "notion that the data points closer to each other depict more similar characteristics\n",
    "compared to those placed farther away\n",
    "\n",
    "**Distribution Models** - based on the probability of all data points in a cluster belonging to\n",
    "the same distribution, i e Normal distribution or Gaussian distribution\n",
    "\n",
    "**Density Models** - search the data space for densities of data points and isolate the different\n",
    "density regions by assigning the data points within the same region as clusters\n",
    "\n",
    "**Centroid Models** - similarity between data points is derived based on their closeness to the\n",
    "cluster’s centroid"
   ]
  },
  {
   "cell_type": "markdown",
   "metadata": {},
   "source": [
    "## K-Means Clustering Algorithms\n",
    "\n",
    "The most popular clustering algorithm\n",
    "\n",
    "* involves assigning examples to clusters so to minimize the variance within each cluster\n",
    "* partitions **n** observations into **k** clusters where each observation belongs to the cluster with the nearest mean serving as a prototype of the cluster\n",
    "\n",
    "Steps\n",
    "1. Randomly select a number of **n** clusters, each of which is represented by a variable **k**\n",
    "2. Each cluster is assigned with a centroid (the center of a cluster) the centroids need to be defined far from each other to reduce variation\n",
    "3. Each data point is assigned to the cluster whose centroid is at the closest distance\n",
    "4. Iterations - once all data points have been assigned to respective clusters Step 2 and Step 3 are repeated:\n",
    "    * the centroids are reassigned for each cluster\n",
    "    * all data points are rearranged based on their distance from the newly defined centroids\n",
    "    * repeated until the centroids stop moving from their positions"
   ]
  },
  {
   "cell_type": "markdown",
   "metadata": {},
   "source": [
    "## Example #1"
   ]
  },
  {
   "cell_type": "code",
   "execution_count": 1,
   "metadata": {},
   "outputs": [],
   "source": [
    "import numpy as np\n",
    "import pandas as pd\n",
    "from matplotlib import pyplot as plt\n",
    "from sklearn.datasets import make_blobs\n",
    "from sklearn.cluster import KMeans"
   ]
  },
  {
   "cell_type": "markdown",
   "metadata": {},
   "source": [
    "**Note**: KMeans is uisng numpy and does not work with a numpy version higher than '1.21.4'."
   ]
  },
  {
   "cell_type": "code",
   "execution_count": 2,
   "metadata": {},
   "outputs": [
    {
     "data": {
      "text/plain": [
       "'1.21.4'"
      ]
     },
     "execution_count": 2,
     "metadata": {},
     "output_type": "execute_result"
    }
   ],
   "source": [
    "np.__version__"
   ]
  },
  {
   "cell_type": "markdown",
   "metadata": {},
   "source": [
    "### Step #1: Preparing Data"
   ]
  },
  {
   "cell_type": "code",
   "execution_count": 3,
   "metadata": {},
   "outputs": [
    {
     "data": {
      "image/png": "[encoded data removed]",
      "text/plain": [
       "<Figure size 432x288 with 1 Axes>"
      ]
     },
     "metadata": {
      "needs_background": "light"
     },
     "output_type": "display_data"
    }
   ],
   "source": [
    "X = [4, 5, 10, 4, 3, 11, 14 , 6, 10, 12]\n",
    "y = [21, 19, 24, 17, 16, 25, 24, 22, 21, 21]\n",
    "\n",
    "plt.scatter(X, y)\n",
    "plt.show()"
   ]
  },
  {
   "cell_type": "markdown",
   "metadata": {},
   "source": [
    "We pack X and y in a list of tuples - it is going to be used by the KMeans algorithm. "
   ]
  },
  {
   "cell_type": "code",
   "execution_count": 4,
   "metadata": {},
   "outputs": [
    {
     "data": {
      "text/plain": [
       "[(4, 21),\n",
       " (5, 19),\n",
       " (10, 24),\n",
       " (4, 17),\n",
       " (3, 16),\n",
       " (11, 25),\n",
       " (14, 24),\n",
       " (6, 22),\n",
       " (10, 21),\n",
       " (12, 21)]"
      ]
     },
     "execution_count": 4,
     "metadata": {},
     "output_type": "execute_result"
    }
   ],
   "source": [
    "kmeans_data = list(zip(X, y))\n",
    "kmeans_data                   "
   ]
  },
  {
   "cell_type": "markdown",
   "metadata": {},
   "source": [
    "### Step #2: Determining the Optimum Number of Clusters **k**\n",
    "\n",
    "* We use the Elbow Method.\n",
    "* KMeans's main hyperparameter is **n_clusters** which is set to the estimated number of clusters in the data."
   ]
  },
  {
   "cell_type": "code",
   "execution_count": 5,
   "metadata": {},
   "outputs": [
    {
     "data": {
      "image/png": "[encoded data removed]",
      "text/plain": [
       "<Figure size 432x288 with 1 Axes>"
      ]
     },
     "metadata": {
      "needs_background": "light"
     },
     "output_type": "display_data"
    }
   ],
   "source": [
    "inertias = []\n",
    "\n",
    "for i in range(1,11):\n",
    "    kmeans = KMeans(n_clusters=i)\n",
    "    kmeans.fit(kmeans_data)\n",
    "    inertias.append(kmeans.inertia_)\n",
    "\n",
    "plt.plot(range(1,11), inertias, marker='o')\n",
    "plt.title('Elbow method')\n",
    "plt.xlabel('Number of clusters')\n",
    "plt.ylabel('Inertia')\n",
    "plt.show()"
   ]
  },
  {
   "cell_type": "markdown",
   "metadata": {},
   "source": [
    "The optimum number of clusters is **2**."
   ]
  },
  {
   "cell_type": "markdown",
   "metadata": {},
   "source": [
    "**Note**: *The Elbow Method requires our manual decision for the number of clusters.*"
   ]
  },
  {
   "cell_type": "markdown",
   "metadata": {},
   "source": [
    "**An automatic process for choosing the number of clusters**\n",
    "\n",
    "Extracted from <a link=\"https://towardsdatascience.com/an-approach-for-choosing-number-of-clusters-for-k-means-c28e614ecb2c\" target=\"new\">An Approach for Choosing Number of Clusters for K-Means</a> \n",
    "                                        \n",
    "The suggested approach takes into account the inertia value for each possible *k* and weights it by a penalty parameter. This parameter represents the trade-off between the inertia and the number of clusters. Still, alpha needs to be manually tuned.\n",
    "\n",
    "Here, we compute a weighted version of the inertia, by using the following formula:\n",
    "\n",
    "<pre>\n",
    "\n",
    "                     inertia(k) \n",
    "   scaled inertia = ------------ + alpha*k\n",
    "\t\t             inertia(k=1) \n",
    "                                 \n",
    "</pre>\n",
    "\n",
    "Here:\n",
    "* k - number of clusters\n",
    "* inertia(k) - the inertia (Within Cluster Sum of Squares) of havinf k clusters\n",
    "* alpha - manually tuned factor that gives penalty to the number of clusters\n",
    "* inertia(k=1)- inertia for the basic situation in which all data points are in the same cluster"
   ]
  },
  {
   "cell_type": "code",
   "execution_count": 6,
   "metadata": {},
   "outputs": [
    {
     "data": {
      "text/plain": [
       "2"
      ]
     },
     "execution_count": 6,
     "metadata": {},
     "output_type": "execute_result"
    }
   ],
   "source": [
    "scaled_inertias = []\n",
    "alpha = 0.2\n",
    "k = 0\n",
    "\n",
    "for inertia in inertias:\n",
    "    k += 1\n",
    "    scaled_inertia = inertia/inertias[0] + alpha*k\n",
    "    scaled_inertias.append(scaled_inertia)\n",
    "    \n",
    "\n",
    "n_clusters = scaled_inertias.index(min(scaled_inertias)) + 1\n",
    "\n",
    "n_clusters"
   ]
  },
  {
   "cell_type": "markdown",
   "metadata": {},
   "source": [
    "The optimum number of clusters has been confirmed to be **2**, with **alpha=0.2**."
   ]
  },
  {
   "cell_type": "markdown",
   "metadata": {},
   "source": [
    "### Step #3: Computing the K-Means Clustering\n",
    "* KMeans.fit(X) - compute k-means clustering\n",
    "* KMeans.predict(X) - predicts the closest cluster each sample in X belongs to\n",
    "* kmeans.cluster_centers_ - holds the centroids after training "
   ]
  },
  {
   "cell_type": "code",
   "execution_count": 7,
   "metadata": {},
   "outputs": [],
   "source": [
    "kmeans = KMeans(n_clusters=2)\n",
    "pred_cl = kmeans.fit_predict(kmeans_data)"
   ]
  },
  {
   "cell_type": "code",
   "execution_count": 8,
   "metadata": {},
   "outputs": [
    {
     "data": {
      "text/plain": [
       "array([0, 0, 1, 0, 0, 1, 1, 0, 1, 1])"
      ]
     },
     "execution_count": 8,
     "metadata": {},
     "output_type": "execute_result"
    }
   ],
   "source": [
    "pred_cl"
   ]
  },
  {
   "cell_type": "markdown",
   "metadata": {},
   "source": [
    "* (4, 21) - assigned to cluster \"0\"\n",
    "* (5, 19) - assigned to cluster \"0\"\n",
    "* (10, 24) - assigned to cluster \"1\"\n",
    "* (4, 17) - assigned to cluster \"0\"\n",
    "* (3, 16) - assigned to cluster \"0\"\n",
    "* (11, 25) - assigned to cluster \"1\"\n",
    "* (14, 24) - assigned to cluster \"1\"\n",
    "* (6, 22) - assigned to cluster \"0\"\n",
    "* (10, 21) - assigned to cluster \"1\"\n",
    "* (12, 21) - assigned to cluster \"1\""
   ]
  },
  {
   "cell_type": "code",
   "execution_count": 9,
   "metadata": {},
   "outputs": [
    {
     "data": {
      "text/plain": [
       "array([[ 4.4, 19. ],\n",
       "       [11.4, 23. ]])"
      ]
     },
     "execution_count": 9,
     "metadata": {},
     "output_type": "execute_result"
    }
   ],
   "source": [
    "kmeans.cluster_centers_"
   ]
  },
  {
   "cell_type": "markdown",
   "metadata": {},
   "source": [
    "### Step #4: Plotting the Clusters"
   ]
  },
  {
   "cell_type": "code",
   "execution_count": 10,
   "metadata": {},
   "outputs": [
    {
     "data": {
      "image/png": "[encoded data removed]",
      "text/plain": [
       "<Figure size 432x288 with 1 Axes>"
      ]
     },
     "metadata": {
      "needs_background": "light"
     },
     "output_type": "display_data"
    }
   ],
   "source": [
    "plt.scatter(X, y)\n",
    "plt.scatter(kmeans.cluster_centers_[:, 0], kmeans.cluster_centers_[:, 1], s=100, c='red')\n",
    "plt.show()"
   ]
  },
  {
   "cell_type": "markdown",
   "metadata": {},
   "source": [
    "## Example #2"
   ]
  },
  {
   "cell_type": "markdown",
   "metadata": {},
   "source": [
    "### Step #1: Preparing Data"
   ]
  },
  {
   "cell_type": "markdown",
   "metadata": {},
   "source": [
    "* **sklearn.datasets.make_blobs** - generates isotropic Gaussian blobs for clustering"
   ]
  },
  {
   "cell_type": "code",
   "execution_count": 11,
   "metadata": {},
   "outputs": [
    {
     "data": {
      "text/plain": [
       "<matplotlib.collections.PathCollection at 0x17a416b7e20>"
      ]
     },
     "execution_count": 11,
     "metadata": {},
     "output_type": "execute_result"
    },
    {
     "data": {
      "image/png": "[encoded data removed]",
      "text/plain": [
       "<Figure size 432x288 with 1 Axes>"
      ]
     },
     "metadata": {
      "needs_background": "light"
     },
     "output_type": "display_data"
    }
   ],
   "source": [
    "X, y = make_blobs(n_samples=200, centers=5, cluster_std=0.60, random_state=0)\n",
    "plt.scatter(X[:,0], X[:,1])"
   ]
  },
  {
   "cell_type": "markdown",
   "metadata": {},
   "source": [
    "### Step #2: Determining the Optimum Number of Clusters k"
   ]
  },
  {
   "cell_type": "code",
   "execution_count": 12,
   "metadata": {},
   "outputs": [
    {
     "data": {
      "image/png": "[encoded data removed]",
      "text/plain": [
       "<Figure size 432x288 with 1 Axes>"
      ]
     },
     "metadata": {
      "needs_background": "light"
     },
     "output_type": "display_data"
    }
   ],
   "source": [
    "inertias = []\n",
    "\n",
    "for i in range(1, 11):\n",
    "    kmeans = KMeans(n_clusters=i, init='k-means++', max_iter=300, n_init=10, random_state=0)\n",
    "    kmeans.fit(X)\n",
    "    inertias.append(kmeans.inertia_)\n",
    "\n",
    "plt.plot(range(1, 11), inertias)\n",
    "plt.title('Elbow Method')\n",
    "plt.xlabel('Number of clusters')\n",
    "plt.ylabel('WCSS') # Within Cluster Sum of Squares\n",
    "plt.show()"
   ]
  },
  {
   "cell_type": "markdown",
   "metadata": {},
   "source": [
    "The optimum number of clusters is **5**."
   ]
  },
  {
   "cell_type": "markdown",
   "metadata": {},
   "source": [
    "### Step #3: Computing the K-Means Clustering"
   ]
  },
  {
   "cell_type": "code",
   "execution_count": 13,
   "metadata": {},
   "outputs": [
    {
     "data": {
      "text/plain": [
       "array([[-1.58063033,  2.76879457],\n",
       "       [ 2.05479441,  1.15373547],\n",
       "       [ 9.19806882, -2.50247405],\n",
       "       [-1.3914031 ,  7.90274995],\n",
       "       [ 0.87493583,  4.2620895 ]])"
      ]
     },
     "execution_count": 13,
     "metadata": {},
     "output_type": "execute_result"
    }
   ],
   "source": [
    "kmeans = KMeans(n_clusters=5, init='k-means++', max_iter=300, n_init=10, random_state=0)\n",
    "kmeans.fit(X)\n",
    "\n",
    "kmeans.cluster_centers_"
   ]
  },
  {
   "cell_type": "markdown",
   "metadata": {},
   "source": [
    "### Step #4: Plotting the Clusters"
   ]
  },
  {
   "cell_type": "code",
   "execution_count": 14,
   "metadata": {},
   "outputs": [
    {
     "data": {
      "text/plain": [
       "<matplotlib.collections.PathCollection at 0x17a41790610>"
      ]
     },
     "execution_count": 14,
     "metadata": {},
     "output_type": "execute_result"
    },
    {
     "data": {
      "image/png": "[encoded data removed]",
      "text/plain": [
       "<Figure size 432x288 with 1 Axes>"
      ]
     },
     "metadata": {
      "needs_background": "light"
     },
     "output_type": "display_data"
    }
   ],
   "source": [
    "plt.scatter(X[:,0], X[:,1])\n",
    "plt.scatter(kmeans.cluster_centers_[:, 0], kmeans.cluster_centers_[:, 1], s=100, c='red')"
   ]
  },
  {
   "cell_type": "markdown",
   "metadata": {},
   "source": [
    "## Example #3"
   ]
  },
  {
   "cell_type": "markdown",
   "metadata": {},
   "source": [
    "### Step #1: Preparing Data"
   ]
  },
  {
   "cell_type": "code",
   "execution_count": 15,
   "metadata": {},
   "outputs": [],
   "source": [
    "data = {'X': [25,34,22,27,33,33,31,22,35,34,67,54,57,43,50,57,59,52,65,47,49,48,35,33,44,45,38,43,51,46],\n",
    "        'y': [79,51,53,78,59,74,73,57,69,75,51,32,40,47,53,36,35,58,59,50,25,20,14,12,20,5,29,27,8,7]\n",
    "       }\n",
    "  \n",
    "df = pd.DataFrame(data, columns=['X', 'y'])"
   ]
  },
  {
   "cell_type": "markdown",
   "metadata": {},
   "source": [
    "### Step #2: Determining the Optimum Number of Clusters k"
   ]
  },
  {
   "cell_type": "code",
   "execution_count": 16,
   "metadata": {},
   "outputs": [
    {
     "data": {
      "image/png": "[encoded data removed]",
      "text/plain": [
       "<Figure size 432x288 with 1 Axes>"
      ]
     },
     "metadata": {
      "needs_background": "light"
     },
     "output_type": "display_data"
    }
   ],
   "source": [
    "inertias = []\n",
    "\n",
    "for i in range(1,11):\n",
    "    kmeans = KMeans(n_clusters=i)\n",
    "    kmeans.fit(df)\n",
    "    inertias.append(kmeans.inertia_)\n",
    "\n",
    "plt.plot(range(1,11), inertias, marker='o')\n",
    "plt.title('Elbow method')\n",
    "plt.xlabel('Number of clusters')\n",
    "plt.ylabel('Inertia')\n",
    "plt.show()"
   ]
  },
  {
   "cell_type": "markdown",
   "metadata": {},
   "source": [
    "The optimum number of clusters is **3**."
   ]
  },
  {
   "cell_type": "markdown",
   "metadata": {},
   "source": [
    "### Step #3: Computing the K-Means Clustering"
   ]
  },
  {
   "cell_type": "code",
   "execution_count": 17,
   "metadata": {},
   "outputs": [],
   "source": [
    "kmeans = KMeans(n_clusters=3)\n",
    "pred_cl = kmeans.fit_predict(df)"
   ]
  },
  {
   "cell_type": "code",
   "execution_count": 18,
   "metadata": {},
   "outputs": [
    {
     "data": {
      "text/plain": [
       "array([2, 2, 2, 2, 2, 2, 2, 2, 2, 2, 0, 0, 0, 0, 0, 0, 0, 0, 0, 0, 1, 1,\n",
       "       1, 1, 1, 1, 1, 1, 1, 1])"
      ]
     },
     "execution_count": 18,
     "metadata": {},
     "output_type": "execute_result"
    }
   ],
   "source": [
    "pred_cl"
   ]
  },
  {
   "cell_type": "code",
   "execution_count": 19,
   "metadata": {},
   "outputs": [
    {
     "data": {
      "text/plain": [
       "array([[55.1, 46.1],\n",
       "       [43.2, 16.7],\n",
       "       [29.6, 66.8]])"
      ]
     },
     "execution_count": 19,
     "metadata": {},
     "output_type": "execute_result"
    }
   ],
   "source": [
    "kmeans.cluster_centers_"
   ]
  },
  {
   "cell_type": "markdown",
   "metadata": {},
   "source": [
    "### Step #4: Plotting the Clusters"
   ]
  },
  {
   "cell_type": "code",
   "execution_count": 20,
   "metadata": {},
   "outputs": [
    {
     "data": {
      "image/png": "[encoded data removed]",
      "text/plain": [
       "<Figure size 432x288 with 1 Axes>"
      ]
     },
     "metadata": {
      "needs_background": "light"
     },
     "output_type": "display_data"
    }
   ],
   "source": [
    "plt.scatter(df['X'], df['y'])\n",
    "plt.scatter(kmeans.cluster_centers_[:, 0], \n",
    "            kmeans.cluster_centers_[:, 1], s=100, c='red')\n",
    "plt.show()"
   ]
  },
  {
   "cell_type": "markdown",
   "metadata": {},
   "source": [
    "## Affinity Propagation Clustering Algorithms"
   ]
  },
  {
   "cell_type": "markdown",
   "metadata": {},
   "source": [
    "The AP ML algorithm is popular due to its simplicity, general applicability, and performance.\n",
    "* it takes as input measures of similarity between pairs of data points, and simultaneously considers all data\n",
    "points as potential exemplars\n",
    "* it creates clusters by sending messages between data points until convergence\n",
    "* unlike K-Means, AP does not require the number of clusters to be determined or estimated beforerunning the algorithm\n",
    "\n",
    "Important input parameters - two sets of data:\n",
    "* **similarities between data points** - represent how well suited a point is to be another one’s exemplar\n",
    "* **preferences** - represent each data point’s suitability to be an exemplar\n",
    "\n",
    "Steps - AP runs through a number of iterations, until it converges each iteration has two message passing steps:\n",
    "* **calculating responsibilities** -  a responsibility **r(i, k)** reflects the accumulated evidence for how well\n",
    "suited point **k** is to serve as the exemplar for point **i** considering other potential exemplars for point **i**\n",
    "* **calculating availabilities** - an availability **a(i, k)** reflects the accumulated evidence for how appropriate\n",
    "it would be for point **i** to choose point **k** as its exemplar, considering the support from other pointswhere point **k** should be an exemplar"
   ]
  },
  {
   "cell_type": "code",
   "execution_count": 21,
   "metadata": {},
   "outputs": [],
   "source": [
    "from sklearn.cluster import AffinityPropagation\n",
    "from numpy import unique\n",
    "from numpy import where\n",
    "from sklearn.datasets import make_classification\n",
    "from itertools import cycle"
   ]
  },
  {
   "cell_type": "markdown",
   "metadata": {},
   "source": [
    "## Example #4"
   ]
  },
  {
   "cell_type": "markdown",
   "metadata": {},
   "source": [
    "### Step #1: Preparing Data"
   ]
  },
  {
   "cell_type": "markdown",
   "metadata": {},
   "source": [
    "**sklearn.datasets.make_classification** - generates a random n-class classification problem by creating clusters of points normally distributed (std=1) about vertices of an **n_informative** dimension."
   ]
  },
  {
   "cell_type": "code",
   "execution_count": 22,
   "metadata": {},
   "outputs": [],
   "source": [
    "X, _ = make_classification(n_samples=300, n_features=2, n_informative=2, n_redundant=0, \n",
    "                           n_clusters_per_class=1, random_state=4)"
   ]
  },
  {
   "cell_type": "markdown",
   "metadata": {},
   "source": [
    "### Step #2: Computing the Affinity Propagation Clustering"
   ]
  },
  {
   "cell_type": "markdown",
   "metadata": {},
   "source": [
    "* **AffinityPropagation.fit(X)** - fits the clustering from features, or affinity matrix\n",
    "* **AffinityPropagation.predict(X)** - predict the closest cluster each sample in X belongs to; returns the cluster label for each data point\n",
    "* **AffinityPropagation.cluster_centers_** - returns the cluster centroids\n",
    "* **AffinityPropagation.labels_** - returns the cluster label for each data point"
   ]
  },
  {
   "cell_type": "code",
   "execution_count": 23,
   "metadata": {},
   "outputs": [],
   "source": [
    "# define the model\n",
    "ap_model = AffinityPropagation(affinity = 'euclidean', random_state=5)\n",
    "# fit the model\n",
    "ap_model.fit(X)\n",
    "# assign a cluster to each example\n",
    "pred_ap = ap_model.predict(X)"
   ]
  },
  {
   "cell_type": "code",
   "execution_count": 24,
   "metadata": {},
   "outputs": [
    {
     "data": {
      "text/plain": [
       "array([[-1.25889003, -0.51230245],\n",
       "       [-1.95587027, -2.46664394],\n",
       "       [-0.49128695,  0.1146967 ],\n",
       "       [ 2.12701291, -0.98641003],\n",
       "       [-0.50859572, -0.49588523],\n",
       "       [ 0.13421238, -1.09699413],\n",
       "       [-1.36591749, -1.66417343],\n",
       "       [ 0.01249781,  0.50493098],\n",
       "       [ 1.05581953, -0.786046  ],\n",
       "       [ 1.27349262, -1.32861704],\n",
       "       [ 2.57269969, -1.6727673 ],\n",
       "       [-1.12788082, -1.24092295],\n",
       "       [-0.77265675, -0.88591789],\n",
       "       [ 0.63761679, -0.4662074 ]])"
      ]
     },
     "execution_count": 24,
     "metadata": {},
     "output_type": "execute_result"
    }
   ],
   "source": [
    "centers = ap_model.cluster_centers_ # center of each cluster\n",
    "centers"
   ]
  },
  {
   "cell_type": "code",
   "execution_count": 25,
   "metadata": {},
   "outputs": [
    {
     "data": {
      "text/plain": [
       "array([ 0,  1,  2,  3,  4,  5,  6,  7,  8,  9, 10, 11, 12, 13],\n",
       "      dtype=int64)"
      ]
     },
     "execution_count": 25,
     "metadata": {},
     "output_type": "execute_result"
    }
   ],
   "source": [
    "# retrieve unique clusters\n",
    "clusters = unique(pred_ap)\n",
    "clusters"
   ]
  },
  {
   "cell_type": "markdown",
   "metadata": {},
   "source": [
    "Here, we can see for each data point the cluster it has been assigned to.  "
   ]
  },
  {
   "cell_type": "code",
   "execution_count": 26,
   "metadata": {},
   "outputs": [
    {
     "data": {
      "text/plain": [
       "array([ 6,  5,  6,  3,  7, 11, 11,  4, 12,  5, 10, 11,  5,  4,  1, 11,  1,\n",
       "       11, 11,  5,  6, 11, 10,  0,  6,  6,  2, 12,  9,  6,  0,  9, 11, 10,\n",
       "        4,  8,  0,  5,  9,  7,  9,  3,  8,  1, 12,  4,  5,  0,  6,  1,  1,\n",
       "        2,  4,  9,  8,  2,  5, 12, 12, 13,  9,  4,  1, 13,  8,  6,  9,  6,\n",
       "       10,  7, 10,  9, 11,  9,  1,  3, 10,  0,  8,  8,  7,  2,  4, 13,  2,\n",
       "        5, 10,  6,  1, 12, 13,  3, 11, 13, 12, 13,  3,  2, 13,  6, 12,  8,\n",
       "        5,  6,  9,  4, 12,  5,  9, 12, 13,  9,  2,  4,  6,  0,  9,  8,  2,\n",
       "        3,  4,  3, 13,  8, 11, 11,  5,  3,  8,  8,  7,  5, 11,  4, 12,  4,\n",
       "        5,  3,  1, 12,  6, 11, 10,  9,  7,  6,  1,  4, 11,  5,  4,  0,  5,\n",
       "        1, 12,  8,  8, 13,  5, 11,  0, 12,  9, 11,  9, 11,  9,  0, 12, 11,\n",
       "        5,  7,  4, 11,  6,  6,  3,  6,  3,  6,  1,  7,  9, 10, 11,  3,  0,\n",
       "        4,  2,  8,  6, 12,  0,  4,  8,  0, 13,  0,  0,  9, 11, 11, 12,  4,\n",
       "        9,  6,  2,  8, 12,  8,  9,  5,  1, 11,  8, 10,  3,  8,  7,  5,  6,\n",
       "        5, 12,  4,  4,  6, 11,  9,  9, 12,  4,  6,  3,  6,  8,  3,  3,  9,\n",
       "       13,  6, 10,  9, 13,  5,  4,  6,  7,  4, 11, 11, 12,  2,  4,  8, 12,\n",
       "       13, 11,  7, 11,  1,  4,  2,  4,  3,  3, 13,  4,  4,  8,  8, 11, 12,\n",
       "        6,  8, 13,  1,  4,  8,  9,  3,  2,  4,  3,  7, 10,  9,  2,  9,  4,\n",
       "        2, 13,  5,  4,  2, 11, 13, 12,  4,  7,  8], dtype=int64)"
      ]
     },
     "execution_count": 26,
     "metadata": {},
     "output_type": "execute_result"
    }
   ],
   "source": [
    "pred_ap"
   ]
  },
  {
   "cell_type": "markdown",
   "metadata": {},
   "source": [
    "Again, we can see for each data point the cluster it has been assigned to - this time we use **ap_model.labels_**, i.e., the cluster labels after training."
   ]
  },
  {
   "cell_type": "code",
   "execution_count": 27,
   "metadata": {},
   "outputs": [
    {
     "data": {
      "text/plain": [
       "array([ 6,  5,  6,  3,  7, 11, 11,  4, 12,  5, 10, 11,  5,  4,  1, 11,  1,\n",
       "       11, 11,  5,  6, 11, 10,  0,  6,  6,  2, 12,  9,  6,  0,  9, 11, 10,\n",
       "        4,  8,  0,  5,  9,  7,  9,  3,  8,  1, 12,  4,  5,  0,  6,  1,  1,\n",
       "        2,  4,  9,  8,  2,  5, 12, 12, 13,  9,  4,  1, 13,  8,  6,  9,  6,\n",
       "       10,  7, 10,  9, 11,  9,  1,  3, 10,  0,  8,  8,  7,  2,  4, 13,  2,\n",
       "        5, 10,  6,  1, 12, 13,  3, 11, 13, 12, 13,  3,  2, 13,  6, 12,  8,\n",
       "        5,  6,  9,  4, 12,  5,  9, 12, 13,  9,  2,  4,  6,  0,  9,  8,  2,\n",
       "        3,  4,  3, 13,  8, 11, 11,  5,  3,  8,  8,  7,  5, 11,  4, 12,  4,\n",
       "        5,  3,  1, 12,  6, 11, 10,  9,  7,  6,  1,  4, 11,  5,  4,  0,  5,\n",
       "        1, 12,  8,  8, 13,  5, 11,  0, 12,  9, 11,  9, 11,  9,  0, 12, 11,\n",
       "        5,  7,  4, 11,  6,  6,  3,  6,  3,  6,  1,  7,  9, 10, 11,  3,  0,\n",
       "        4,  2,  8,  6, 12,  0,  4,  8,  0, 13,  0,  0,  9, 11, 11, 12,  4,\n",
       "        9,  6,  2,  8, 12,  8,  9,  5,  1, 11,  8, 10,  3,  8,  7,  5,  6,\n",
       "        5, 12,  4,  4,  6, 11,  9,  9, 12,  4,  6,  3,  6,  8,  3,  3,  9,\n",
       "       13,  6, 10,  9, 13,  5,  4,  6,  7,  4, 11, 11, 12,  2,  4,  8, 12,\n",
       "       13, 11,  7, 11,  1,  4,  2,  4,  3,  3, 13,  4,  4,  8,  8, 11, 12,\n",
       "        6,  8, 13,  1,  4,  8,  9,  3,  2,  4,  3,  7, 10,  9,  2,  9,  4,\n",
       "        2, 13,  5,  4,  2, 11, 13, 12,  4,  7,  8], dtype=int64)"
      ]
     },
     "execution_count": 27,
     "metadata": {},
     "output_type": "execute_result"
    }
   ],
   "source": [
    "labels = ap_model.labels_ # label to each element\n",
    "labels"
   ]
  },
  {
   "cell_type": "markdown",
   "metadata": {},
   "source": [
    "### Step #3: Plotting the Clusters"
   ]
  },
  {
   "cell_type": "code",
   "execution_count": 28,
   "metadata": {},
   "outputs": [
    {
     "data": {
      "image/png": "[encoded data removed]",
      "text/plain": [
       "<Figure size 432x288 with 1 Axes>"
      ]
     },
     "metadata": {
      "needs_background": "light"
     },
     "output_type": "display_data"
    }
   ],
   "source": [
    "# create scatter plot for samples from each cluster\n",
    "for cluster in clusters:\n",
    "    # get row indexes for samples with this cluster\n",
    "    row_ix = where(pred_ap == cluster)\n",
    "    # create scatter of these samples\n",
    "    plt.scatter(X[row_ix, 0], X[row_ix, 1])\n",
    "\n",
    "# show the plot\n",
    "plt.show()"
   ]
  },
  {
   "cell_type": "markdown",
   "metadata": {},
   "source": [
    "## Example #5"
   ]
  },
  {
   "cell_type": "markdown",
   "metadata": {},
   "source": [
    "### Step #1: Preparing Data"
   ]
  },
  {
   "cell_type": "code",
   "execution_count": 29,
   "metadata": {},
   "outputs": [],
   "source": [
    "# generate sample data\n",
    "centers = [[1, 1], [-1, -1], [1, -1], [-1, -1]]\n",
    "X, _ = make_blobs(n_samples = 300, centers = centers,\n",
    "                  cluster_std = 0.5, random_state = 0)"
   ]
  },
  {
   "cell_type": "markdown",
   "metadata": {},
   "source": [
    "### Step #2: Computing the Affinity Propagation Clustering"
   ]
  },
  {
   "cell_type": "code",
   "execution_count": 30,
   "metadata": {},
   "outputs": [
    {
     "data": {
      "text/plain": [
       "AffinityPropagation(random_state=5)"
      ]
     },
     "execution_count": 30,
     "metadata": {},
     "output_type": "execute_result"
    }
   ],
   "source": [
    "# cpute Affinity Propagation\n",
    "ap_model = AffinityPropagation(affinity = 'euclidean', random_state=5)\n",
    "ap_model.fit(X)"
   ]
  },
  {
   "cell_type": "code",
   "execution_count": 31,
   "metadata": {},
   "outputs": [
    {
     "data": {
      "text/plain": [
       "array([[ 0.80238551, -1.57971026],\n",
       "       [ 1.41079286, -0.99735368],\n",
       "       [ 1.4322181 ,  0.62891749],\n",
       "       [-1.77039851, -0.968369  ],\n",
       "       [ 0.81765323, -0.92164807],\n",
       "       [-1.34602492, -0.23181147],\n",
       "       [ 1.08333675,  1.31751572],\n",
       "       [-0.72834405, -0.78047852],\n",
       "       [-1.31871851, -1.19863591],\n",
       "       [ 0.74459743,  0.40968391],\n",
       "       [ 1.76638961,  1.73467938],\n",
       "       [-0.90246515, -1.89078143],\n",
       "       [ 0.00562834, -1.02229771],\n",
       "       [ 0.41742508,  1.45041324]])"
      ]
     },
     "execution_count": 31,
     "metadata": {},
     "output_type": "execute_result"
    }
   ],
   "source": [
    "centers = ap_model.cluster_centers_ # center of each cluster\n",
    "centers"
   ]
  },
  {
   "cell_type": "code",
   "execution_count": 32,
   "metadata": {},
   "outputs": [
    {
     "data": {
      "text/plain": [
       "14"
      ]
     },
     "execution_count": 32,
     "metadata": {},
     "output_type": "execute_result"
    }
   ],
   "source": [
    "n_clusters = len(centers)\n",
    "n_clusters"
   ]
  },
  {
   "cell_type": "code",
   "execution_count": 33,
   "metadata": {},
   "outputs": [],
   "source": [
    "cluster_centers_indices = ap_model.cluster_centers_indices_\n",
    "labels = ap_model.labels_"
   ]
  },
  {
   "cell_type": "markdown",
   "metadata": {},
   "source": [
    "### Step #3: Plotting the Clusters"
   ]
  },
  {
   "cell_type": "code",
   "execution_count": 34,
   "metadata": {},
   "outputs": [
    {
     "data": {
      "image/png": "[encoded data removed]",
      "text/plain": [
       "<Figure size 432x288 with 1 Axes>"
      ]
     },
     "metadata": {
      "needs_background": "light"
     },
     "output_type": "display_data"
    }
   ],
   "source": [
    "from itertools import cycle\n",
    "  \n",
    "colors = cycle('bgrcmykbgrcmykbgrcmykbgrcmyk')\n",
    "  \n",
    "for k, col in zip(range(n_clusters), colors):\n",
    "    class_members = labels == k\n",
    "    cluster_center = X[cluster_centers_indices[k]]\n",
    "    plt.plot(X[class_members, 0], X[class_members, 1], col + '.')\n",
    "    plt.plot(cluster_center[0], cluster_center[1], 'o',\n",
    "             markerfacecolor = col, markeredgecolor ='k',\n",
    "             markersize = 14)\n",
    "  \n",
    "    for x in X[class_members]:\n",
    "        plt.plot([cluster_center[0], x[0]], \n",
    "                 [cluster_center[1], x[1]], col)\n",
    "  \n",
    "plt.title('Estimated number of clusters: % d' % n_clusters)\n",
    "plt.show()"
   ]
  },
  {
   "cell_type": "code",
   "execution_count": null,
   "metadata": {},
   "outputs": [],
   "source": []
  }
 ],
 "metadata": {
  "kernelspec": {
   "display_name": "Python 3 (ipykernel)",
   "language": "python",
   "name": "python3"
  },
  "language_info": {
   "codemirror_mode": {
    "name": "ipython",
    "version": 3
   },
   "file_extension": ".py",
   "mimetype": "text/x-python",
   "name": "python",
   "nbconvert_exporter": "python",
   "pygments_lexer": "ipython3",
   "version": "3.9.7"
  }
 },
 "nbformat": 4,
 "nbformat_minor": 1
}
