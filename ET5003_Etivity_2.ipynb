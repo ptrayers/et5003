{
  "cells": [
    {
      "cell_type": "markdown",
      "metadata": {
        "id": "view-in-github",
        "colab_type": "text"
      },
      "source": [
        "<a href=\"https://colab.research.google.com/github/ptrayers/et5003/blob/master/ET5003_Etivity_2.ipynb\" target=\"_parent\"><img src=\"https://colab.research.google.com/assets/colab-badge.svg\" alt=\"Open In Colab\"/></a>"
      ]
    },
    {
      "cell_type": "markdown",
      "id": "b8e5ed62",
      "metadata": {
        "id": "b8e5ed62"
      },
      "source": [
        "<div>\n",
        "<img src=\"https://drive.google.com/uc?export=view&id=1vK33e_EqaHgBHcbRV_m38hx6IkG0blK_\" width=\"350\"/>\n",
        "</div>\n",
        "\n",
        "## ET5003_CS6134  Machine Learning Applications\n",
        "## SEM1 2022/3\n",
        "\n",
        "### ET5003_CS6134 Etivity 2 - Building a Bayesian Network on a Real-Life Scenario\n",
        "\n",
        "### Instructor: Emil Vassev\n",
        "October 3rd, 2022\n",
        "<br><br>\n",
        "Copyright (C) 2022 - All rights reserved, do not copy or distribute without permission of the author.\n",
        "***"
      ]
    },
    {
      "cell_type": "markdown",
      "id": "6c2603d7",
      "metadata": {
        "id": "6c2603d7"
      },
      "source": [
        "## Submission Info\n",
        "### Student Name: <span style=\"color:green\">Paul</span>\n",
        "### Student Surname: <span style=\"color:green\">Trayers</span>\n",
        "### Student ID: <span style=\"color:green\">8907021</span>\n",
        "### Date of Final Submission: <span style=\"color:green\">December 10th, 2022</span>\n",
        "***"
      ]
    },
    {
      "cell_type": "markdown",
      "id": "a2b8d751",
      "metadata": {
        "id": "a2b8d751"
      },
      "source": [
        "### Task\n",
        "In this e-tivity, you are asked to build a Bayesian Network by following the steps outlined in the interactive lesson “Notebook Lesson: Building Bayesian Networks with Python”. This Bayesian Network needs to cover a real-life scenario, which is a modified version of the “Recommendation Letter” example provided by the lectures.\n",
        "\n",
        "## The real-life scenario\n",
        "Let’s suppose that a UL student is taking the ET5003 module “Machine Learning Applications”. The student’s grade for this module will depend on their intelligence (low or high), module difficulty (easy, hard), and their health status (sick or healthy). Our student asks their professor for a recommendation letter. To come up with the idea of the quality of that recommendation letter (weak or strong), the professor can only look at the student’s grade (A, B or C) and the student’s forum activity (not active, active). Hence, the actual quality of the letter depends stochastically on the grade and on the forum activity.\n",
        "\n",
        "### Here are the steps you need to follow:"
      ]
    },
    {
      "cell_type": "markdown",
      "id": "a2788722",
      "metadata": {
        "id": "a2788722"
      },
      "source": [
        "## Step 1: Create the DAG of the Bayesian Network (20%)"
      ]
    },
    {
      "cell_type": "markdown",
      "id": "6b20db4c",
      "metadata": {
        "id": "6b20db4c"
      },
      "source": [
        "### Step 1.1. Describe the problem (5%)\n",
        "Outline the problem in terms of:\n",
        "<ul>\n",
        "<li>random variables and their domain</li>\n",
        "<li>dependencies among these random variables</li>\n",
        "<ul>"
      ]
    },
    {
      "cell_type": "markdown",
      "id": "dc9249ff",
      "metadata": {
        "id": "dc9249ff"
      },
      "source": [
        "<span style=\"color:red\">TODO: your description goes here</span>"
      ]
    },
    {
      "cell_type": "markdown",
      "id": "ee5b9a4b",
      "metadata": {
        "id": "ee5b9a4b"
      },
      "source": [
        "### Step 1.2. Draw and show the DAG (7%)"
      ]
    },
    {
      "cell_type": "code",
      "execution_count": null,
      "id": "7ed86963",
      "metadata": {
        "id": "7ed86963"
      },
      "outputs": [],
      "source": [
        "# your code goes here"
      ]
    },
    {
      "cell_type": "markdown",
      "id": "c0ecd215",
      "metadata": {
        "id": "c0ecd215"
      },
      "source": [
        "### Step 1.3. Create the DAG of the Bayesian Network by using the pgmpy library (7%)"
      ]
    },
    {
      "cell_type": "code",
      "execution_count": null,
      "id": "db48a940",
      "metadata": {
        "id": "db48a940"
      },
      "outputs": [],
      "source": [
        "# your code goes here"
      ]
    },
    {
      "cell_type": "markdown",
      "id": "c4a839dc",
      "metadata": {
        "id": "c4a839dc"
      },
      "source": [
        "### Step 1.4. Show the DAG of the Bayesian Network (1%)"
      ]
    },
    {
      "cell_type": "code",
      "execution_count": null,
      "id": "cd305a3b",
      "metadata": {
        "id": "cd305a3b"
      },
      "outputs": [],
      "source": [
        "# your code goes here"
      ]
    },
    {
      "cell_type": "markdown",
      "id": "e9de73a9",
      "metadata": {
        "id": "e9de73a9"
      },
      "source": [
        "## Step 2: Create the Conditional Probability Distributions of the Bayesian Network (50%)"
      ]
    },
    {
      "cell_type": "markdown",
      "id": "bd3ae2ef",
      "metadata": {
        "id": "bd3ae2ef"
      },
      "source": [
        "### Step 2.1: Build the probability distribution tables with TabularCPD (46%)"
      ]
    },
    {
      "cell_type": "code",
      "execution_count": null,
      "id": "c350d2fb",
      "metadata": {
        "id": "c350d2fb"
      },
      "outputs": [],
      "source": [
        "# your code goes here"
      ]
    },
    {
      "cell_type": "markdown",
      "id": "9fc20d41",
      "metadata": {
        "id": "9fc20d41"
      },
      "source": [
        "### Step 2.2: Associate the distribution models with the network structure (2%)"
      ]
    },
    {
      "cell_type": "code",
      "execution_count": null,
      "id": "b4241adf",
      "metadata": {
        "id": "b4241adf"
      },
      "outputs": [],
      "source": [
        "# your code goes here"
      ]
    },
    {
      "cell_type": "markdown",
      "id": "b6b85948",
      "metadata": {
        "id": "b6b85948"
      },
      "source": [
        "### Step 2.3: Check the model (2%)"
      ]
    },
    {
      "cell_type": "code",
      "execution_count": null,
      "id": "9c60a865",
      "metadata": {
        "id": "9c60a865"
      },
      "outputs": [],
      "source": [
        "# your code goes here"
      ]
    },
    {
      "cell_type": "markdown",
      "id": "ce96e2a3",
      "metadata": {
        "id": "ce96e2a3"
      },
      "source": [
        "## Step 3: Inference with the Bayesian Network (30%)"
      ]
    },
    {
      "cell_type": "markdown",
      "id": "5a52a7fa",
      "metadata": {
        "id": "5a52a7fa"
      },
      "source": [
        "### Step 3.1: Infer Posterior Probability of having a grade A if the evidence is a strong recommendation letter (10%)"
      ]
    },
    {
      "cell_type": "code",
      "execution_count": null,
      "id": "06b6fdc3",
      "metadata": {
        "id": "06b6fdc3"
      },
      "outputs": [],
      "source": [
        "# your code goes here"
      ]
    },
    {
      "cell_type": "code",
      "execution_count": null,
      "id": "308a9df3",
      "metadata": {
        "id": "308a9df3"
      },
      "outputs": [],
      "source": [
        "# show the posterior probability results\n",
        "# your code goes here"
      ]
    },
    {
      "cell_type": "markdown",
      "id": "9b258b7f",
      "metadata": {
        "id": "9b258b7f"
      },
      "source": [
        "### Step 3.2: Infer Prior Probability of having a strong recommendation letter with no evidence (10%)"
      ]
    },
    {
      "cell_type": "code",
      "execution_count": null,
      "id": "a1acf2f0",
      "metadata": {
        "id": "a1acf2f0"
      },
      "outputs": [],
      "source": [
        "# your code goes here"
      ]
    },
    {
      "cell_type": "code",
      "execution_count": null,
      "id": "98b85fc8",
      "metadata": {
        "id": "98b85fc8"
      },
      "outputs": [],
      "source": [
        "# show the prior probability results\n",
        "# your code goes here"
      ]
    },
    {
      "cell_type": "markdown",
      "id": "f8e8fba0",
      "metadata": {
        "id": "f8e8fba0"
      },
      "source": [
        "### Step 3.3: Infer Prior Probability of having a strong recommendation letter with a weak forum activity as a prior evidence (10%)"
      ]
    },
    {
      "cell_type": "code",
      "execution_count": null,
      "id": "806bbe99",
      "metadata": {
        "id": "806bbe99"
      },
      "outputs": [],
      "source": [
        "# your code goes here"
      ]
    },
    {
      "cell_type": "code",
      "execution_count": null,
      "id": "c403a277",
      "metadata": {
        "id": "c403a277"
      },
      "outputs": [],
      "source": [
        "# show the prior probability results\n",
        "# your code goes here"
      ]
    },
    {
      "cell_type": "code",
      "execution_count": null,
      "id": "53d447b3",
      "metadata": {
        "id": "53d447b3"
      },
      "outputs": [],
      "source": []
    }
  ],
  "metadata": {
    "kernelspec": {
      "display_name": "Python 3 (ipykernel)",
      "language": "python",
      "name": "python3"
    },
    "language_info": {
      "codemirror_mode": {
        "name": "ipython",
        "version": 3
      },
      "file_extension": ".py",
      "mimetype": "text/x-python",
      "name": "python",
      "nbconvert_exporter": "python",
      "pygments_lexer": "ipython3",
      "version": "3.9.7"
    },
    "colab": {
      "provenance": [],
      "include_colab_link": true
    }
  },
  "nbformat": 4,
  "nbformat_minor": 5
}