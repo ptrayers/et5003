{
  "cells": [
    {
      "cell_type": "markdown",
      "metadata": {
        "id": "view-in-github",
        "colab_type": "text"
      },
      "source": [
        "<a href=\"https://colab.research.google.com/github/ptrayers/et5003/blob/master/ET5003_Etivity_2.ipynb\" target=\"_parent\"><img src=\"https://colab.research.google.com/assets/colab-badge.svg\" alt=\"Open In Colab\"/></a>"
      ]
    },
    {
      "cell_type": "markdown",
      "id": "b8e5ed62",
      "metadata": {
        "id": "b8e5ed62"
      },
      "source": [
        "<div>\n",
        "<img src=\"https://drive.google.com/uc?export=view&id=1vK33e_EqaHgBHcbRV_m38hx6IkG0blK_\" width=\"350\"/>\n",
        "</div>\n",
        "\n",
        "## ET5003_CS6134  Machine Learning Applications\n",
        "## SEM1 2022/3\n",
        "\n",
        "### ET5003_CS6134 Etivity 2 - Building a Bayesian Network on a Real-Life Scenario\n",
        "\n",
        "### Instructor: Emil Vassev\n",
        "October 3rd, 2022\n",
        "<br><br>\n",
        "Copyright (C) 2022 - All rights reserved, do not copy or distribute without permission of the author.\n",
        "***"
      ]
    },
    {
      "cell_type": "markdown",
      "id": "6c2603d7",
      "metadata": {
        "id": "6c2603d7"
      },
      "source": [
        "## Submission Info\n",
        "### Student Name: <span style=\"color:green\">Paul</span>\n",
        "### Student Surname: <span style=\"color:green\">Trayers</span>\n",
        "### Student ID: <span style=\"color:green\">8907021</span>\n",
        "### Date of Final Submission: <span style=\"color:green\">December 10th, 2022</span>\n",
        "***"
      ]
    },
    {
      "cell_type": "markdown",
      "id": "a2b8d751",
      "metadata": {
        "id": "a2b8d751"
      },
      "source": [
        "### Task\n",
        "In this e-tivity, you are asked to build a Bayesian Network by following the steps outlined in the interactive lesson “Notebook Lesson: Building Bayesian Networks with Python”. This Bayesian Network needs to cover a real-life scenario, which is a modified version of the “Recommendation Letter” example provided by the lectures.\n",
        "\n",
        "## The real-life scenario\n",
        "Let’s suppose that a UL student is taking the ET5003 module “Machine Learning Applications”. The student’s grade for this module will depend on their intelligence (low or high), module difficulty (easy, hard), and their health status (sick or healthy). Our student asks their professor for a recommendation letter. To come up with the idea of the quality of that recommendation letter (weak or strong), the professor can only look at the student’s grade (A, B or C) and the student’s forum activity (not active, active). Hence, the actual quality of the letter depends stochastically on the grade and on the forum activity.\n",
        "\n",
        "### Here are the steps you need to follow:"
      ]
    },
    {
      "cell_type": "markdown",
      "id": "a2788722",
      "metadata": {
        "id": "a2788722"
      },
      "source": [
        "A Bayesian Network is composed of two components:\n",
        "\n",
        "1. A directed acyclic graph DAG: 𝓖(𝑉,𝐸)\n",
        "   - Nodes 𝑉 represent a set of random variables.\n",
        "   - Directed edges 𝐸 connect two random variables with causal probabilistic dependency.\n",
        "   - Cycles are not allowed in the graph.\n",
        "\n",
        "2. A set of conditional probability distributions\n",
        "   - A conditional probability distribution is defined for each node in the graph.\n",
        "   - The conditional probability distribution of a node (random variable) is defined for every possible outcome of the preceding causal node(s)."
      ]
    },
    {
      "cell_type": "markdown",
      "id": "6b20db4c",
      "metadata": {
        "id": "6b20db4c"
      },
      "source": [
        "### Step 1.1. Describe the problem (5%)\n",
        "Outline the problem in terms of:\n",
        "<ul>\n",
        "<li>random variables and their domain</li>\n",
        "<li>dependencies among these random variables</li>\n",
        "<ul>"
      ]
    },
    {
      "cell_type": "markdown",
      "id": "dc9249ff",
      "metadata": {
        "id": "dc9249ff"
      },
      "source": [
        "The professor writes a recommendation **letter** of particular quality(observation/evidence)\n",
        "\n",
        "The possible _independent_ causes of the **letter** are:\n",
        "* **intelligence**\n",
        "* **module difficulty**\n",
        "* **health status**\n",
        "* **grade**\n",
        "* **forum activity**\n",
        "\n",
        "Inference objectives:\n",
        "* calculate the posterior probability of having a **grade** A given the observed evidence of a strong recommendation **letter**\n",
        "* calculate the prior probability of having a strong recommendation **letter** without any evidence\n",
        "* calculate the prior probability of having a strong recommendation **letter** with a weak **forum activity** as a prior evidence\n",
        "\n",
        "The conditional probability formula, known as Bayes' Theorem, can be expressed as:\n",
        "\n",
        "$$\n",
        "P(\\text{Cause} \\mid \\text{Evidence}) = \\frac{P(\\text{Evidence} \\mid \\text{Cause}) \\times P(\\text{Cause})}{P(\\text{Evidence})}\n",
        "$$\n",
        "\n",
        "Where:\n",
        "- $P(\\text{Cause} \\mid \\text{Evidence})$ is the *Posterior* probability. It represents the probability of the Cause given the observed Evidence.\n",
        "- $P(\\text{Evidence} \\mid \\text{Cause})$ is the *Likelihood*. It is the probability of observing the Evidence given the Cause.\n",
        "- $P(\\text{Cause})$ is the *Prior* probability. It represents the initial belief about the Cause, before considering the Evidence.\n",
        "- $P(\\text{Evidence})$ is the *Evidence*. It is the probability of the Evidence under all possible causes.\n"
      ]
    },
    {
      "cell_type": "markdown",
      "id": "ee5b9a4b",
      "metadata": {
        "id": "ee5b9a4b"
      },
      "source": [
        "### Step 1.2. Draw and show the DAG (7%)"
      ]
    },
    {
      "cell_type": "markdown",
      "source": [
        "\n"
      ],
      "metadata": {
        "id": "v9Ulnx0kHSsY"
      },
      "id": "v9Ulnx0kHSsY"
    },
    {
      "cell_type": "code",
      "execution_count": null,
      "id": "7ed86963",
      "metadata": {
        "id": "7ed86963"
      },
      "outputs": [],
      "source": [
        "# your code goes here"
      ]
    },
    {
      "cell_type": "markdown",
      "id": "c0ecd215",
      "metadata": {
        "id": "c0ecd215"
      },
      "source": [
        "### Step 1.3. Create the DAG of the Bayesian Network by using the pgmpy library (7%)"
      ]
    },
    {
      "cell_type": "markdown",
      "source": [
        "Here, we create the Recommendation Letter Bayesian Network following the inferences identified previously.\n",
        "\n",
        "We consider five nodes, each representing a random variable:\n",
        "\n",
        "* **module_difficulty**: {easy, hard}\n",
        "* **intelligence**: {low or high}\n",
        "* **grade**: {A, B, C}\n",
        "* **health**: {sick, healthy}\n",
        "* **forum_activity** {inactive, active}\n",
        "* **letter**: {weak or strong}\n",
        "\n",
        "Additional constraints:\n",
        "module_difficulty ⊥ intelligence (independent)"
      ],
      "metadata": {
        "id": "yjumNtTMdfcr"
      },
      "id": "yjumNtTMdfcr"
    },
    {
      "cell_type": "code",
      "source": [
        "!pip install pgmpy\n",
        "\n",
        "# show installed versions\n",
        "#!pip show pgmpy\n",
        "#!pip show networkx\n",
        "#!pip show matplotlib"
      ],
      "metadata": {
        "colab": {
          "base_uri": "https://localhost:8080/"
        },
        "id": "hkf65z6suNGu",
        "outputId": "51e6ed6a-4cdd-4b1f-b0f1-c2351ce7e31a"
      },
      "id": "hkf65z6suNGu",
      "execution_count": null,
      "outputs": [
        {
          "output_type": "stream",
          "name": "stdout",
          "text": [
            "Collecting pgmpy\n",
            "  Downloading pgmpy-0.1.24-py3-none-any.whl (2.0 MB)\n",
            "\u001b[2K     \u001b[90m━━━━━━━━━━━━━━━━━━━━━━━━━━━━━━━━━━━━━━━━\u001b[0m \u001b[32m2.0/2.0 MB\u001b[0m \u001b[31m10.7 MB/s\u001b[0m eta \u001b[36m0:00:00\u001b[0m\n",
            "\u001b[?25hRequirement already satisfied: networkx in /usr/local/lib/python3.10/dist-packages (from pgmpy) (3.2.1)\n",
            "Requirement already satisfied: numpy in /usr/local/lib/python3.10/dist-packages (from pgmpy) (1.23.5)\n",
            "Requirement already satisfied: scipy in /usr/local/lib/python3.10/dist-packages (from pgmpy) (1.11.4)\n",
            "Requirement already satisfied: scikit-learn in /usr/local/lib/python3.10/dist-packages (from pgmpy) (1.2.2)\n",
            "Requirement already satisfied: pandas in /usr/local/lib/python3.10/dist-packages (from pgmpy) (1.5.3)\n",
            "Requirement already satisfied: pyparsing in /usr/local/lib/python3.10/dist-packages (from pgmpy) (3.1.1)\n",
            "Requirement already satisfied: torch in /usr/local/lib/python3.10/dist-packages (from pgmpy) (2.1.0+cu118)\n",
            "Requirement already satisfied: statsmodels in /usr/local/lib/python3.10/dist-packages (from pgmpy) (0.14.0)\n",
            "Requirement already satisfied: tqdm in /usr/local/lib/python3.10/dist-packages (from pgmpy) (4.66.1)\n",
            "Requirement already satisfied: joblib in /usr/local/lib/python3.10/dist-packages (from pgmpy) (1.3.2)\n",
            "Requirement already satisfied: opt-einsum in /usr/local/lib/python3.10/dist-packages (from pgmpy) (3.3.0)\n",
            "Requirement already satisfied: python-dateutil>=2.8.1 in /usr/local/lib/python3.10/dist-packages (from pandas->pgmpy) (2.8.2)\n",
            "Requirement already satisfied: pytz>=2020.1 in /usr/local/lib/python3.10/dist-packages (from pandas->pgmpy) (2023.3.post1)\n",
            "Requirement already satisfied: threadpoolctl>=2.0.0 in /usr/local/lib/python3.10/dist-packages (from scikit-learn->pgmpy) (3.2.0)\n",
            "Requirement already satisfied: patsy>=0.5.2 in /usr/local/lib/python3.10/dist-packages (from statsmodels->pgmpy) (0.5.4)\n",
            "Requirement already satisfied: packaging>=21.3 in /usr/local/lib/python3.10/dist-packages (from statsmodels->pgmpy) (23.2)\n",
            "Requirement already satisfied: filelock in /usr/local/lib/python3.10/dist-packages (from torch->pgmpy) (3.13.1)\n",
            "Requirement already satisfied: typing-extensions in /usr/local/lib/python3.10/dist-packages (from torch->pgmpy) (4.5.0)\n",
            "Requirement already satisfied: sympy in /usr/local/lib/python3.10/dist-packages (from torch->pgmpy) (1.12)\n",
            "Requirement already satisfied: jinja2 in /usr/local/lib/python3.10/dist-packages (from torch->pgmpy) (3.1.2)\n",
            "Requirement already satisfied: fsspec in /usr/local/lib/python3.10/dist-packages (from torch->pgmpy) (2023.6.0)\n",
            "Requirement already satisfied: triton==2.1.0 in /usr/local/lib/python3.10/dist-packages (from torch->pgmpy) (2.1.0)\n",
            "Requirement already satisfied: six in /usr/local/lib/python3.10/dist-packages (from patsy>=0.5.2->statsmodels->pgmpy) (1.16.0)\n",
            "Requirement already satisfied: MarkupSafe>=2.0 in /usr/local/lib/python3.10/dist-packages (from jinja2->torch->pgmpy) (2.1.3)\n",
            "Requirement already satisfied: mpmath>=0.19 in /usr/local/lib/python3.10/dist-packages (from sympy->torch->pgmpy) (1.3.0)\n",
            "Installing collected packages: pgmpy\n",
            "Successfully installed pgmpy-0.1.24\n"
          ]
        }
      ]
    },
    {
      "cell_type": "code",
      "execution_count": null,
      "id": "db48a940",
      "metadata": {
        "id": "db48a940"
      },
      "outputs": [],
      "source": [
        "from pgmpy.models import BayesianNetwork\n",
        "from pgmpy.factors.discrete import TabularCPD\n",
        "import networkx as nx\n",
        "import pylab as plt\n",
        "\n",
        "# Define the Bayesian DAG structure\n",
        "#\n",
        "# we define the Bayesian structure by connecting nodes (random variables)\n",
        "# the direction is determined from the order of the nodes\n",
        "#\n",
        "# here, electricity_failure, computer_malfunction, and computer_failure are random variables\n",
        "\n",
        "model = BayesianNetwork([\n",
        "    ('grade', 'letter'),\n",
        "    ('forum_activity', 'letter'),\n",
        "    ('intelligence', 'grade'),\n",
        "    ('module_difficulty', 'grade'),\n",
        "    ('health', 'grade')])"
      ]
    },
    {
      "cell_type": "markdown",
      "id": "c4a839dc",
      "metadata": {
        "id": "c4a839dc"
      },
      "source": [
        "### Step 1.4. Show the DAG of the Bayesian Network (1%)"
      ]
    },
    {
      "cell_type": "code",
      "execution_count": null,
      "id": "cd305a3b",
      "metadata": {
        "id": "cd305a3b",
        "colab": {
          "base_uri": "https://localhost:8080/",
          "height": 516
        },
        "outputId": "196099ad-feb2-458b-b502-d3ce3b698a5c"
      },
      "outputs": [
        {
          "output_type": "display_data",
          "data": {
            "text/plain": [
              "<Figure size 640x480 with 1 Axes>"
            ],
            "image/png": "[encoded data removed]"
          },
          "metadata": {}
        }
      ],
      "source": [
        "#nx.draw(model, with_labels=True)\n",
        "# Convert BayesianNetwork to NetworkX graph\n",
        "#nx_graph = model.to_networkx()\n",
        "\n",
        "# Since NetworkX.draw() is no longer supported we need a different approach to drawing the graph.\n",
        "\n",
        "# Create a NetworkX graph from the Bayesian Network\n",
        "nx_graph = nx.DiGraph()\n",
        "nx_graph.add_edges_from(model.edges())\n",
        "\n",
        "# Plot using NetworkX\n",
        "nx.draw(nx_graph, with_labels=True)\n",
        "\n",
        "plt.show()\n",
        "plt.close()"
      ]
    },
    {
      "cell_type": "markdown",
      "source": [
        "In this step, we build the distribution models per a random variable. We use our beliefs and logic to come up with these models as our _a priori_ knowledge."
      ],
      "metadata": {
        "id": "24o86tJRy3pm"
      },
      "id": "24o86tJRy3pm"
    },
    {
      "cell_type": "markdown",
      "id": "e9de73a9",
      "metadata": {
        "id": "e9de73a9"
      },
      "source": [
        "## Step 2: Create the Conditional Probability Distributions of the Bayesian Network (50%)"
      ]
    },
    {
      "cell_type": "markdown",
      "id": "bd3ae2ef",
      "metadata": {
        "id": "bd3ae2ef"
      },
      "source": [
        "### Step 2.1: Build the probability distribution tables with TabularCPD (46%)"
      ]
    },
    {
      "cell_type": "markdown",
      "source": [
        "Here we create the probability distributions for each of the random variables assigning values that we think might be reasonable for the scenario. In this way we emulate the initial input of a domain expert (a priori)"
      ],
      "metadata": {
        "id": "3GLrIn6BlM4_"
      },
      "id": "3GLrIn6BlM4_"
    },
    {
      "cell_type": "markdown",
      "source": [
        "### CPT for `module_difficulty`\n",
        "| Probability Description         | Value\n",
        "| --- | --- |\n",
        "| P(module_difficulty=easy) | 0.6 |\n",
        "| P(module_difficulty=no) | 0.4 |\n",
        "\n",
        "### CPT for `intelligence`\n",
        "| Probability Description         | Value\n",
        "| --- | --- |\n",
        "| P(intelligence=low) | 0.7 |\n",
        "| P(intelligence=high) | 0.3 |\n",
        "\n",
        "### CPT for `health`\n",
        "| Probability Description         | Value\n",
        "| --- | --- |\n",
        "| P(health=sick) | 0.3 |\n",
        "| P(health=healthy) | 0.7 |\n",
        "\n",
        "### CPT for `grade` given `module_difficulty`, `intelligence`, and `health`\n",
        "| Condition | Probability |\n",
        "| --- | --- |\n",
        "| P(grade=A \\| module_difficulty=easy ∩ intelligence=low ∩ health=sick) | 0.58 |\n",
        "| P(grade=A \\| module_difficulty=hard ∩ intelligence=low ∩ health=sick) | 0.43 |\n",
        "| P(grade=A \\| module_difficulty=easy ∩ intelligence=high ∩ health=sick) | 0.94 |\n",
        "| P(grade=A \\| module_difficulty=hard ∩ intelligence=high ∩ health=sick) | 0.7 |\n",
        "| P(grade=A \\| module_difficulty=easy ∩ intelligence=low ∩ health=healthy) | 0.61 |\n",
        "| P(grade=A \\| module_difficulty=hard ∩ intelligence=low ∩ health=healthy) | 0.46 |\n",
        "| P(grade=A \\| module_difficulty=easy ∩ intelligence=high ∩ health=healthy) | 0.952 |\n",
        "| P(grade=A \\| module_difficulty=hard ∩ intelligence=high ∩ health=healthy) | 0.73 |\n",
        "| P(grade=B \\| module_difficulty=easy ∩ intelligence=low ∩ health=sick) | 0.24 |\n",
        "| P(grade=B \\| module_difficulty=hard ∩ intelligence=low ∩ health=sick) | 0.15 |\n",
        "| P(grade=B \\| module_difficulty=easy ∩ intelligence=high ∩ health=sick) | 0.048 |\n",
        "| P(grade=B \\| module_difficulty=hard ∩ intelligence=high ∩ health=sick) | 0.18 |\n",
        "| P(grade=B \\| module_difficulty=easy ∩ intelligence=low ∩ health=healthy) | 0.27 |\n",
        "| P(grade=B \\| module_difficulty=hard ∩ intelligence=low ∩ health=healthy) | 0.18 |\n",
        "| P(grade=B \\| module_difficulty=easy ∩ intelligence=high ∩ health=healthy) | 0.042 |\n",
        "| P(grade=B \\| module_difficulty=hard ∩ intelligence=high ∩ health=healthy) | 0.21 |\n",
        "| P(grade=C \\| module_difficulty=easy ∩ intelligence=low ∩ health=sick) | 0.18 |\n",
        "| P(grade=C \\| module_difficulty=hard ∩ intelligence=low ∩ health=sick) | 0.42 |\n",
        "| P(grade=C \\| module_difficulty=easy ∩ intelligence=high ∩ health=sick) | 0.012 |\n",
        "| P(grade=C \\| module_difficulty=hard ∩ intelligence=high ∩ health=sick) | 0.12 |\n",
        "| P(grade=C \\| module_difficulty=easy ∩ intelligence=low ∩ health=healthy) | 0.12 |\n",
        "| P(grade=C \\| module_difficulty=hard ∩ intelligence=low ∩ health=healthy) | 0.36 |\n",
        "| P(grade=C \\| module_difficulty=easy ∩ intelligence=high ∩ health=healthy) | 0.006 |\n",
        "| P(grade=C \\| module_difficulty=hard ∩ intelligence=high ∩ health=healthy) | 0.06 |\n",
        "\n",
        "\n",
        "### CPT for `forum_activity`\n",
        "| Probability         | Value\n",
        "| --- | --- |\n",
        "| P(forum_activity=inactive) | 0.3 |\n",
        "| P(forum_activity=active) | 0.7 |\n",
        "\n",
        "\n",
        "### CPT for `letter` given `grade` and `forum_activity`\n",
        "| Condition | Probability |\n",
        "| --- | --- |\n",
        "| P(letter=weak \\| grade=A ∩ forum_activity=inactive) | 0.1 |\n",
        "| P(letter=weak \\| grade=B ∩ forum_activity=inactive) | 0.3 |\n",
        "| P(letter=weak \\| grade=C ∩ forum_activity=inactive) | 0.6 |\n",
        "| P(letter=weak \\| grade=A ∩ forum_activity=active) | 0.05 |\n",
        "| P(letter=weak \\| grade=B ∩ forum_activity=active) | 0.2 |\n",
        "| P(letter=weak \\| grade=C ∩ forum_activity=active) | 0.4 |\n",
        "| P(letter=strong \\| grade=A ∩ forum_activity=inactive) | 0.9 |\n",
        "| P(letter=strong \\| grade=B ∩ forum_activity=inactive) | 0.7 |\n",
        "| P(letter=strong \\| grade=C ∩ forum_activity=inactive) | 0.4 |\n",
        "| P(letter=strong \\| grade=A ∩ forum_activity=active) | 0.95 |\n",
        "| P(letter=strong \\| grade=B ∩ forum_activity=active) | 0.8 |\n",
        "| P(letter=strong \\| grade=C ∩ forum_activity=active) | 0.6 |\n"
      ],
      "metadata": {
        "id": "6Zb3j1VOynQs"
      },
      "id": "6Zb3j1VOynQs"
    },
    {
      "cell_type": "markdown",
      "source": [
        "We use the TabularCPD class provided by the pgmpy library to build the distribution model of each random variable."
      ],
      "metadata": {
        "id": "PKc_Y7eglU8f"
      },
      "id": "PKc_Y7eglU8f"
    },
    {
      "cell_type": "code",
      "execution_count": null,
      "id": "c350d2fb",
      "metadata": {
        "id": "c350d2fb"
      },
      "outputs": [],
      "source": [
        "from pgmpy.factors.discrete import TabularCPD\n",
        "\n",
        "# Define CPD for module_difficulty\n",
        "cpd_module_difficulty = TabularCPD(\n",
        "    variable='module_difficulty',\n",
        "    variable_card=2,\n",
        "    values=[[0.6], [0.4]],\n",
        "    state_names={'module_difficulty': ['easy', 'hard']}\n",
        ")\n",
        "\n",
        "# Define CPD for intelligence\n",
        "cpd_intelligence = TabularCPD(\n",
        "    variable='intelligence',\n",
        "    variable_card=2,\n",
        "    values=[[0.7], [0.3]],\n",
        "    state_names={'intelligence': ['low', 'high']}\n",
        ")\n",
        "\n",
        "# Define CPD for health\n",
        "cpd_health = TabularCPD(\n",
        "    variable='health',\n",
        "    variable_card=2,\n",
        "    values=[[0.3], [0.7]],\n",
        "    state_names={'health': ['sick', 'healthy']}\n",
        ")\n",
        "\n",
        "# Define CPD for grade given module_difficulty, intelligence, and health\n",
        "cpd_grade = TabularCPD(\n",
        "    variable='grade',\n",
        "    variable_card=3,\n",
        "    values=[\n",
        "        [0.58, 0.43, 0.94, 0.7, 0.61, 0.46, 0.952, 0.73],    # grade A\n",
        "        [0.24, 0.15, 0.048, 0.18, 0.27, 0.18, 0.042, 0.21],  # grade B\n",
        "        [0.18, 0.42, 0.012, 0.12, 0.12, 0.36, 0.006, 0.06]   # grade C\n",
        "    ],\n",
        "    evidence=['module_difficulty', 'intelligence', 'health'],\n",
        "    evidence_card=[2, 2, 2],\n",
        "    state_names={\n",
        "        'grade': ['A', 'B', 'C'],\n",
        "        'module_difficulty': ['easy', 'hard'],\n",
        "        'intelligence': ['low', 'high'],\n",
        "        'health': ['sick', 'healthy']\n",
        "    }\n",
        ")\n",
        "\n",
        "# Define CPD for forum_activity\n",
        "cpd_forum_activity = TabularCPD(\n",
        "    variable='forum_activity',\n",
        "    variable_card=2,\n",
        "    values=[[0.3], [0.7]],\n",
        "    state_names={'forum_activity': ['inactive', 'active']}\n",
        ")\n",
        "\n",
        "# Define CPD for letter given grade and forum_activity\n",
        "cpd_letter = TabularCPD(\n",
        "    variable='letter',\n",
        "    variable_card=2,\n",
        "    values=[\n",
        "        [0.1, 0.3, 0.6, 0.05, 0.2, 0.4],  # letter weak\n",
        "        [0.9, 0.7, 0.4, 0.95, 0.8, 0.6]   # letter strong\n",
        "    ],\n",
        "    evidence=['grade', 'forum_activity'],\n",
        "    evidence_card=[3, 2],\n",
        "    state_names={\n",
        "        'letter': ['weak', 'strong'],\n",
        "        'grade': ['A', 'B', 'C'],\n",
        "        'forum_activity': ['inactive', 'active']\n",
        "    }\n",
        ")"
      ]
    },
    {
      "cell_type": "markdown",
      "id": "9fc20d41",
      "metadata": {
        "id": "9fc20d41"
      },
      "source": [
        "### Step 2.2: Associate the distribution models with the network structure (2%)"
      ]
    },
    {
      "cell_type": "code",
      "execution_count": null,
      "id": "b4241adf",
      "metadata": {
        "id": "b4241adf",
        "colab": {
          "base_uri": "https://localhost:8080/"
        },
        "outputId": "cc97cb9d-49c9-4cad-c7f9-a1913e90b684"
      },
      "outputs": [
        {
          "output_type": "stream",
          "name": "stderr",
          "text": [
            "WARNING:pgmpy:Replacing existing CPD for module_difficulty\n",
            "WARNING:pgmpy:Replacing existing CPD for intelligence\n",
            "WARNING:pgmpy:Replacing existing CPD for health\n",
            "WARNING:pgmpy:Replacing existing CPD for grade\n",
            "WARNING:pgmpy:Replacing existing CPD for forum_activity\n",
            "WARNING:pgmpy:Replacing existing CPD for letter\n"
          ]
        }
      ],
      "source": [
        "# Associate the distribution models with the network structure, i.e., with the random variables\n",
        "model.add_cpds(cpd_module_difficulty,\n",
        "               cpd_intelligence,\n",
        "               cpd_health,\n",
        "               cpd_grade,\n",
        "               cpd_forum_activity,\n",
        "               cpd_letter)"
      ]
    },
    {
      "cell_type": "markdown",
      "id": "b6b85948",
      "metadata": {
        "id": "b6b85948"
      },
      "source": [
        "### Step 2.3: Check the model (2%)"
      ]
    },
    {
      "cell_type": "markdown",
      "source": [
        "Calling the check_model() method of the BayesianNetwork class validates that the conditional probability distributions have the correct domain cardinality and that the probabilities sum to 1, ensuring consistent and valid models."
      ],
      "metadata": {
        "id": "NMsHZJ0czFva"
      },
      "id": "NMsHZJ0czFva"
    },
    {
      "cell_type": "code",
      "execution_count": null,
      "id": "9c60a865",
      "metadata": {
        "id": "9c60a865",
        "colab": {
          "base_uri": "https://localhost:8080/"
        },
        "outputId": "1fe8a922-55a6-4e64-d425-5f18db0749de"
      },
      "outputs": [
        {
          "output_type": "execute_result",
          "data": {
            "text/plain": [
              "True"
            ]
          },
          "metadata": {},
          "execution_count": 21
        }
      ],
      "source": [
        "model.check_model()"
      ]
    },
    {
      "cell_type": "markdown",
      "id": "ce96e2a3",
      "metadata": {
        "id": "ce96e2a3"
      },
      "source": [
        "## Step 3: Inference with the Bayesian Network (30%)"
      ]
    },
    {
      "cell_type": "markdown",
      "source": [
        "Here we use the inference mechanism of the Bayesian Network to:\n",
        "\n",
        "* Calculate posterior probability of having *grade* A if the evidence is a strong recommendation **letter**\n",
        "* Calculate the prior probability of having a *strong* recommendation **letter** with no evidence\n",
        "* Calculate prior probability of having a *strong* recommendation **letter** with a *weak* forum activity as a prior evidence"
      ],
      "metadata": {
        "id": "cK8rl6WElCu0"
      },
      "id": "cK8rl6WElCu0"
    },
    {
      "cell_type": "markdown",
      "source": [
        "Run inference tasks on the network using the VariableElimination class."
      ],
      "metadata": {
        "id": "chQAhD6Uoqj9"
      },
      "id": "chQAhD6Uoqj9"
    },
    {
      "cell_type": "code",
      "source": [
        "from pgmpy.inference import VariableElimination\n",
        "\n",
        "infer = VariableElimination(model)"
      ],
      "metadata": {
        "id": "jkVChLJ9oMiu"
      },
      "id": "jkVChLJ9oMiu",
      "execution_count": null,
      "outputs": []
    },
    {
      "cell_type": "markdown",
      "id": "5a52a7fa",
      "metadata": {
        "id": "5a52a7fa"
      },
      "source": [
        "### Step 3.1: Infer Posterior Probability of having a grade A if the evidence is a strong recommendation letter (10%)"
      ]
    },
    {
      "cell_type": "markdown",
      "source": [
        "We use Bayes' Theorem is used to calculate the posterior probability;\n",
        "\n",
        "$$ P(\\text{Cause} | \\text{Evidence}) = \\frac{P(\\text{Evidence} | \\text{Cause}) \\times P(\\text{Cause})}{P(\\text{Evidence})} $$\n",
        "\n",
        "$$ = P(\\text{Grade} | \\text{Letter}) = \\frac{P(\\text{Letter} | \\text{Grade}) \\times P(\\text{Grade})}{P(\\text{Letter})} $$\n",
        "\n",
        "\n",
        "\n",
        "\n"
      ],
      "metadata": {
        "id": "DRpQI59Qsx7R"
      },
      "id": "DRpQI59Qsx7R"
    },
    {
      "cell_type": "code",
      "execution_count": 43,
      "id": "308a9df3",
      "metadata": {
        "id": "308a9df3"
      },
      "outputs": [],
      "source": [
        "# infer posterior probability\n",
        "posterior_p = infer.query(['grade'], evidence={'letter': 'strong'})"
      ]
    },
    {
      "cell_type": "code",
      "source": [
        "# show the posterior probability results\n",
        "print(posterior_p)\n",
        "\n",
        "probability_grade_A = posterior_p.values[0]  # assuming 'A' is the first state in the 'grade' variable\n",
        "print(f\"\\nProbability (posterior) of grade 'A' given a strong letter: {probability_grade_A:.4f}\")"
      ],
      "metadata": {
        "colab": {
          "base_uri": "https://localhost:8080/"
        },
        "id": "rTb6vhAi1nnC",
        "outputId": "3d054906-e2ca-4f1b-b1f1-13a460ffd527"
      },
      "id": "rTb6vhAi1nnC",
      "execution_count": 46,
      "outputs": [
        {
          "output_type": "stream",
          "name": "stdout",
          "text": [
            "+----------+--------------+\n",
            "| grade    |   phi(grade) |\n",
            "+==========+==============+\n",
            "| grade(A) |       0.5913 |\n",
            "+----------+--------------+\n",
            "| grade(B) |       0.1876 |\n",
            "+----------+--------------+\n",
            "| grade(C) |       0.2211 |\n",
            "+----------+--------------+\n",
            "\n",
            "Probability of grade 'A' given a strong letter: 0.5913\n"
          ]
        }
      ]
    },
    {
      "cell_type": "markdown",
      "id": "9b258b7f",
      "metadata": {
        "id": "9b258b7f"
      },
      "source": [
        "### Step 3.2: Infer Prior Probability of having a strong recommendation letter with no evidence (10%)"
      ]
    },
    {
      "cell_type": "code",
      "execution_count": 53,
      "id": "a1acf2f0",
      "metadata": {
        "id": "a1acf2f0"
      },
      "outputs": [],
      "source": [
        "prior_p = infer.query(['letter'], evidence={})"
      ]
    },
    {
      "cell_type": "code",
      "execution_count": 56,
      "id": "98b85fc8",
      "metadata": {
        "id": "98b85fc8",
        "colab": {
          "base_uri": "https://localhost:8080/"
        },
        "outputId": "e34c7edc-36bb-4099-ded2-cef64ec61f54"
      },
      "outputs": [
        {
          "output_type": "stream",
          "name": "stdout",
          "text": [
            "+----------------+---------------+\n",
            "| letter         |   phi(letter) |\n",
            "+================+===============+\n",
            "| letter(weak)   |        0.2604 |\n",
            "+----------------+---------------+\n",
            "| letter(strong) |        0.7396 |\n",
            "+----------------+---------------+\n",
            "\n",
            "Probability of strong letter with no evidence: 0.7396\n"
          ]
        }
      ],
      "source": [
        "# show the prior probability results\n",
        "print(prior_p)\n",
        "\n",
        "probability_strong_letter = prior_p.values[1]  # assuming '' is the first state in the 'grade' variable\n",
        "print(f\"\\nProbability (prior) of strong letter with no evidence: {probability_strong_letter:.4f}\")"
      ]
    },
    {
      "cell_type": "markdown",
      "id": "f8e8fba0",
      "metadata": {
        "id": "f8e8fba0"
      },
      "source": [
        "### Step 3.3: Infer Prior Probability of having a strong recommendation letter with a weak forum activity as a prior evidence (10%)"
      ]
    },
    {
      "cell_type": "code",
      "execution_count": 57,
      "id": "806bbe99",
      "metadata": {
        "id": "806bbe99"
      },
      "outputs": [],
      "source": [
        "prior_p = infer.query(['letter'], evidence={'forum_activity':'inactive'})"
      ]
    },
    {
      "cell_type": "code",
      "execution_count": 58,
      "id": "c403a277",
      "metadata": {
        "id": "c403a277",
        "colab": {
          "base_uri": "https://localhost:8080/"
        },
        "outputId": "68e1ba1b-5d82-42e4-b59b-ac700c7a6a64"
      },
      "outputs": [
        {
          "output_type": "stream",
          "name": "stdout",
          "text": [
            "+----------------+---------------+\n",
            "| letter         |   phi(letter) |\n",
            "+================+===============+\n",
            "| letter(weak)   |        0.2131 |\n",
            "+----------------+---------------+\n",
            "| letter(strong) |        0.7869 |\n",
            "+----------------+---------------+\n"
          ]
        }
      ],
      "source": [
        "# show the prior probability results\n",
        "print(prior_p)"
      ]
    },
    {
      "cell_type": "code",
      "execution_count": null,
      "id": "53d447b3",
      "metadata": {
        "id": "53d447b3"
      },
      "outputs": [],
      "source": []
    }
  ],
  "metadata": {
    "kernelspec": {
      "display_name": "Python 3 (ipykernel)",
      "language": "python",
      "name": "python3"
    },
    "language_info": {
      "codemirror_mode": {
        "name": "ipython",
        "version": 3
      },
      "file_extension": ".py",
      "mimetype": "text/x-python",
      "name": "python",
      "nbconvert_exporter": "python",
      "pygments_lexer": "ipython3",
      "version": "3.9.7"
    },
    "colab": {
      "provenance": [],
      "include_colab_link": true
    }
  },
  "nbformat": 4,
  "nbformat_minor": 5
}