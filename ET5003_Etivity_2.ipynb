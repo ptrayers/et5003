{
  "cells": [
    {
      "cell_type": "markdown",
      "id": "b8e5ed62",
      "metadata": {
        "id": "b8e5ed62"
      },
      "source": [
        "<div>\n",
        "<img src=\"https://drive.google.com/uc?export=view&id=1vK33e_EqaHgBHcbRV_m38hx6IkG0blK_\" width=\"350\"/>\n",
        "</div>\n",
        "\n",
        "## ET5003_CS6134  Machine Learning Applications\n",
        "## SEM1 2022/3\n",
        "\n",
        "### ET5003_CS6134 Etivity 2 - Building a Bayesian Network on a Real-Life Scenario\n",
        "\n",
        "### Instructor: Emil Vassev\n",
        "October 3rd, 2022\n",
        "<br><br>\n",
        "Copyright (C) 2022 - All rights reserved, do not copy or distribute without permission of the author.\n",
        "***"
      ]
    },
    {
      "cell_type": "markdown",
      "id": "6c2603d7",
      "metadata": {
        "id": "6c2603d7"
      },
      "source": [
        "## Submission Info\n",
        "### Student Name: <span style=\"color:green\">Paul</span>\n",
        "### Student Surname: <span style=\"color:green\">Trayers</span>\n",
        "### Student ID: <span style=\"color:green\">8907021</span>\n",
        "### Date of Final Submission: <span style=\"color:green\">December 10th, 2022</span>\n",
        "***"
      ]
    },
    {
      "cell_type": "markdown",
      "id": "a2b8d751",
      "metadata": {
        "id": "a2b8d751"
      },
      "source": [
        "### Task\n",
        "In this e-tivity, you are asked to build a Bayesian Network by following the steps outlined in the interactive lesson “Notebook Lesson: Building Bayesian Networks with Python”. This Bayesian Network needs to cover a real-life scenario, which is a modified version of the “Recommendation Letter” example provided by the lectures.\n",
        "\n",
        "## The real-life scenario\n",
        "Let’s suppose that a UL student is taking the ET5003 module “Machine Learning Applications”. The student’s grade for this module will depend on their intelligence (low or high), module difficulty (easy, hard), and their health status (sick or healthy). Our student asks their professor for a recommendation letter. To come up with the idea of the quality of that recommendation letter (weak or strong), the professor can only look at the student’s grade (A, B or C) and the student’s forum activity (not active, active). Hence, the actual quality of the letter depends stochastically on the grade and on the forum activity.\n",
        "\n",
        "### Here are the steps you need to follow:"
      ]
    },
    {
      "cell_type": "markdown",
      "id": "a2788722",
      "metadata": {
        "id": "a2788722"
      },
      "source": [
        "A Bayesian Network is composed of two components:\n",
        "\n",
        "1. A directed acyclic graph DAG: 𝓖(𝑉,𝐸)\n",
        "   - Nodes 𝑉 represent a set of random variables.\n",
        "   - Directed edges 𝐸 connect two random variables with causal probabilistic dependency.\n",
        "   - Cycles are not allowed in the graph.\n",
        "\n",
        "2. A set of conditional probability distributions\n",
        "   - A conditional probability distribution is defined for each node in the graph.\n",
        "   - The conditional probability distribution of a node (random variable) is defined for every possible outcome of the preceding causal node(s)."
      ]
    },
    {
      "cell_type": "markdown",
      "id": "6b20db4c",
      "metadata": {
        "id": "6b20db4c"
      },
      "source": [
        "### Step 1.1. Describe the problem (5%)\n",
        "Outline the problem in terms of:\n",
        "<ul>\n",
        "<li>random variables and their domain</li>\n",
        "<li>dependencies among these random variables</li>\n",
        "<ul>"
      ]
    },
    {
      "cell_type": "markdown",
      "id": "dc9249ff",
      "metadata": {
        "id": "dc9249ff"
      },
      "source": [
        "The professor writes a recommendation **letter** of particular quality(observation/evidence)\n",
        "\n",
        "The possible _independent_ causes of the **letter** are:\n",
        "* **intelligence**\n",
        "* **module difficulty**\n",
        "* **health status**\n",
        "* **grade**\n",
        "* **forum activity**\n",
        "\n",
        "Inference objectives:\n",
        "* calculate the posterior probability of having a **grade** A given the observed evidence of a strong recommendation **letter**\n",
        "* calculate the prior probability of having a strong recommendation **letter** without any evidence\n",
        "* calculate the prior probability of having a strong recommendation **letter** with a weak **forum activity** as a prior evidence\n",
        "\n",
        "The conditional probability formula, known as Bayes' Theorem, can be expressed as:\n",
        "\n",
        "$$\n",
        "P(\\text{Cause} \\mid \\text{Evidence}) = \\frac{P(\\text{Evidence} \\mid \\text{Cause}) \\times P(\\text{Cause})}{P(\\text{Evidence})}\n",
        "$$\n",
        "\n",
        "Where:\n",
        "- $P(\\text{Cause} \\mid \\text{Evidence})$ is the *Posterior* probability. It represents the probability of the Cause given the observed Evidence.\n",
        "- $P(\\text{Evidence} \\mid \\text{Cause})$ is the *Likelihood*. It is the probability of observing the Evidence given the Cause.\n",
        "- $P(\\text{Cause})$ is the *Prior* probability. It represents the initial belief about the Cause, before considering the Evidence.\n",
        "- $P(\\text{Evidence})$ is the *Evidence*. It is the probability of the Evidence under all possible causes.\n"
      ]
    },
    {
      "cell_type": "markdown",
      "id": "ee5b9a4b",
      "metadata": {
        "id": "ee5b9a4b"
      },
      "source": [
        "### Step 1.2. Draw and show the DAG (7%)"
      ]
    },
    {
      "cell_type": "markdown",
      "source": [
        "\n"
      ],
      "metadata": {
        "id": "v9Ulnx0kHSsY"
      },
      "id": "v9Ulnx0kHSsY"
    },
    {
      "cell_type": "code",
      "execution_count": null,
      "id": "7ed86963",
      "metadata": {
        "id": "7ed86963"
      },
      "outputs": [],
      "source": [
        "# your code goes here"
      ]
    },
    {
      "cell_type": "markdown",
      "id": "c0ecd215",
      "metadata": {
        "id": "c0ecd215"
      },
      "source": [
        "### Step 1.3. Create the DAG of the Bayesian Network by using the pgmpy library (7%)"
      ]
    },
    {
      "cell_type": "markdown",
      "source": [
        "Here, we create the Recommendation Letter Bayesian Network following the inferences identified previously.\n",
        "\n",
        "We consider five nodes, each representing a random variable:\n",
        "\n",
        "* **module_difficulty**: {easy, hard}\n",
        "* **intelligence**: {low or high}\n",
        "* **grade**: {A, B, C}\n",
        "* **health**: {sick, healthy}\n",
        "* **forum_activity** {inactive, active}\n",
        "* **letter**: {weak or strong}\n",
        "\n",
        "Additional constraints:\n",
        "module_difficulty ⊥ intelligence (independent)"
      ],
      "metadata": {
        "id": "yjumNtTMdfcr"
      },
      "id": "yjumNtTMdfcr"
    },
    {
      "cell_type": "code",
      "source": [
        "#!pip install pgmpy\n",
        "\n",
        "# show installed versions\n",
        "#!pip show pgmpy\n",
        "#!pip show networkx\n",
        "#!pip show matplotlib"
      ],
      "metadata": {
        "colab": {
          "base_uri": "https://localhost:8080/"
        },
        "id": "hkf65z6suNGu",
        "outputId": "62f35bc0-f49e-404d-c425-20fee7c3089f"
      },
      "id": "hkf65z6suNGu",
      "execution_count": 7,
      "outputs": [
        {
          "output_type": "stream",
          "name": "stdout",
          "text": [
            "Name: pgmpy\n",
            "Version: 0.1.24\n",
            "Summary: A library for Probabilistic Graphical Models\n",
            "Home-page: https://github.com/pgmpy/pgmpy\n",
            "Author: Ankur Ankan\n",
            "Author-email: ankurankan@gmail.com\n",
            "License: MIT\n",
            "Location: /usr/local/lib/python3.10/dist-packages\n",
            "Requires: joblib, networkx, numpy, opt-einsum, pandas, pyparsing, scikit-learn, scipy, statsmodels, torch, tqdm\n",
            "Required-by: \n",
            "Name: networkx\n",
            "Version: 3.2.1\n",
            "Summary: Python package for creating and manipulating graphs and networks\n",
            "Home-page: \n",
            "Author: \n",
            "Author-email: Aric Hagberg <hagberg@lanl.gov>\n",
            "License: \n",
            "Location: /usr/local/lib/python3.10/dist-packages\n",
            "Requires: \n",
            "Required-by: hyperopt, lida, pgmpy, python-louvain, scikit-image, torch\n",
            "Name: matplotlib\n",
            "Version: 3.7.1\n",
            "Summary: Python plotting package\n",
            "Home-page: https://matplotlib.org\n",
            "Author: John D. Hunter, Michael Droettboom\n",
            "Author-email: matplotlib-users@python.org\n",
            "License: PSF\n",
            "Location: /usr/local/lib/python3.10/dist-packages\n",
            "Requires: contourpy, cycler, fonttools, kiwisolver, numpy, packaging, pillow, pyparsing, python-dateutil\n",
            "Required-by: arviz, datascience, fastai, geemap, imgaug, lida, matplotlib-venn, missingno, mizani, mlxtend, music21, plotnine, prophet, pycocotools, seaborn, wordcloud, yellowbrick\n"
          ]
        }
      ]
    },
    {
      "cell_type": "code",
      "execution_count": 11,
      "id": "db48a940",
      "metadata": {
        "id": "db48a940"
      },
      "outputs": [],
      "source": [
        "from pgmpy.models import BayesianNetwork\n",
        "from pgmpy.factors.discrete import TabularCPD\n",
        "import networkx as nx\n",
        "import pylab as plt\n",
        "\n",
        "# Define the Bayesian DAG structure\n",
        "#\n",
        "# we define the Bayesian structure by connecting nodes (random variables)\n",
        "# the direction is determined from the order of the nodes\n",
        "#\n",
        "# here, electricity_failure, computer_malfunction, and computer_failure are random variables\n",
        "\n",
        "model = BayesianNetwork([\n",
        "    ('grade', 'letter'),\n",
        "    ('forum_activity', 'letter'),\n",
        "    ('intelligence', 'grade'),\n",
        "    ('module_difficulty', 'grade'),\n",
        "    ('health', 'grade')])"
      ]
    },
    {
      "cell_type": "markdown",
      "id": "c4a839dc",
      "metadata": {
        "id": "c4a839dc"
      },
      "source": [
        "### Step 1.4. Show the DAG of the Bayesian Network (1%)"
      ]
    },
    {
      "cell_type": "code",
      "execution_count": 12,
      "id": "cd305a3b",
      "metadata": {
        "id": "cd305a3b",
        "colab": {
          "base_uri": "https://localhost:8080/",
          "height": 516
        },
        "outputId": "ab9bb192-3114-48ed-e813-95e2c61339dd"
      },
      "outputs": [
        {
          "output_type": "display_data",
          "data": {
            "text/plain": [
              "<Figure size 640x480 with 1 Axes>"
            ],
            "image/png": "[encoded data removed]"
          },
          "metadata": {}
        }
      ],
      "source": [
        "#nx.draw(model, with_labels=True)\n",
        "# Convert BayesianNetwork to NetworkX graph\n",
        "#nx_graph = model.to_networkx()\n",
        "\n",
        "# Since NetworkX.draw() is no longer supported we need a different approach to drawing the graph.\n",
        "\n",
        "# Create a NetworkX graph from the Bayesian Network\n",
        "nx_graph = nx.DiGraph()\n",
        "nx_graph.add_edges_from(model.edges())\n",
        "\n",
        "# Plot using NetworkX\n",
        "nx.draw(nx_graph, with_labels=True)\n",
        "\n",
        "plt.show()\n",
        "plt.close()"
      ]
    },
    {
      "cell_type": "markdown",
      "source": [
        "In this step, we build the distribution models per a random variable. We use our beliefs and logic to come up with these models as our _a priori_ knowledge."
      ],
      "metadata": {
        "id": "24o86tJRy3pm"
      },
      "id": "24o86tJRy3pm"
    },
    {
      "cell_type": "markdown",
      "id": "e9de73a9",
      "metadata": {
        "id": "e9de73a9"
      },
      "source": [
        "## Step 2: Create the Conditional Probability Distributions of the Bayesian Network (50%)"
      ]
    },
    {
      "cell_type": "markdown",
      "id": "bd3ae2ef",
      "metadata": {
        "id": "bd3ae2ef"
      },
      "source": [
        "### Step 2.1: Build the probability distribution tables with TabularCPD (46%)"
      ]
    },
    {
      "cell_type": "markdown",
      "source": [
        "Here we create the probability distributions for each of the random variables assigning values that we think might be reasonable for the scenario. In this way we emulate the initial input of a domain expert (a priori)"
      ],
      "metadata": {
        "id": "3GLrIn6BlM4_"
      },
      "id": "3GLrIn6BlM4_"
    },
    {
      "cell_type": "markdown",
      "source": [
        "### CPT for `module_difficulty`\n",
        "| Probability Description         | Value\n",
        "| --- | --- |\n",
        "| P(module_difficulty=easy) | 0.6 |\n",
        "| P(module_difficulty=no) | 0.4 |\n",
        "\n",
        "### CPT for `intelligence`\n",
        "| Probability Description         | Value\n",
        "| --- | --- |\n",
        "| P(intelligence=low) | 0.7 |\n",
        "| P(intelligence=high) | 0.3 |\n",
        "\n",
        "### CPT for `health`\n",
        "| Probability Description         | Value\n",
        "| --- | --- |\n",
        "| P(health=sick) | 0.3 |\n",
        "| P(health=healthy) | 0.7 |\n",
        "\n",
        "### CPT for `grade` given `module_difficulty`, `intelligence`, and `health`\n",
        "| Condition | Probability |\n",
        "| --- | --- |\n",
        "| P(grade=A \\| module_difficulty=easy ∩ intelligence=low ∩ health=sick) | 0.58 |\n",
        "| P(grade=A \\| module_difficulty=hard ∩ intelligence=low ∩ health=sick) | 0.43 |\n",
        "| P(grade=A \\| module_difficulty=easy ∩ intelligence=high ∩ health=sick) | 0.94 |\n",
        "| P(grade=A \\| module_difficulty=hard ∩ intelligence=high ∩ health=sick) | 0.7 |\n",
        "| P(grade=A \\| module_difficulty=easy ∩ intelligence=low ∩ health=healthy) | 0.61 |\n",
        "| P(grade=A \\| module_difficulty=hard ∩ intelligence=low ∩ health=healthy) | 0.46 |\n",
        "| P(grade=A \\| module_difficulty=easy ∩ intelligence=high ∩ health=healthy) | 0.952 |\n",
        "| P(grade=A \\| module_difficulty=hard ∩ intelligence=high ∩ health=healthy) | 0.73 |\n",
        "| P(grade=B \\| module_difficulty=easy ∩ intelligence=low ∩ health=sick) | 0.24 |\n",
        "| P(grade=B \\| module_difficulty=hard ∩ intelligence=low ∩ health=sick) | 0.15 |\n",
        "| P(grade=B \\| module_difficulty=easy ∩ intelligence=high ∩ health=sick) | 0.048 |\n",
        "| P(grade=B \\| module_difficulty=hard ∩ intelligence=high ∩ health=sick) | 0.18 |\n",
        "| P(grade=B \\| module_difficulty=easy ∩ intelligence=low ∩ health=healthy) | 0.27 |\n",
        "| P(grade=B \\| module_difficulty=hard ∩ intelligence=low ∩ health=healthy) | 0.18 |\n",
        "| P(grade=B \\| module_difficulty=easy ∩ intelligence=high ∩ health=healthy) | 0.042 |\n",
        "| P(grade=B \\| module_difficulty=hard ∩ intelligence=high ∩ health=healthy) | 0.21 |\n",
        "| P(grade=C \\| module_difficulty=easy ∩ intelligence=low ∩ health=sick) | 0.18 |\n",
        "| P(grade=C \\| module_difficulty=hard ∩ intelligence=low ∩ health=sick) | 0.42 |\n",
        "| P(grade=C \\| module_difficulty=easy ∩ intelligence=high ∩ health=sick) | 0.012 |\n",
        "| P(grade=C \\| module_difficulty=hard ∩ intelligence=high ∩ health=sick) | 0.12 |\n",
        "| P(grade=C \\| module_difficulty=easy ∩ intelligence=low ∩ health=healthy) | 0.12 |\n",
        "| P(grade=C \\| module_difficulty=hard ∩ intelligence=low ∩ health=healthy) | 0.36 |\n",
        "| P(grade=C \\| module_difficulty=easy ∩ intelligence=high ∩ health=healthy) | 0.006 |\n",
        "| P(grade=C \\| module_difficulty=hard ∩ intelligence=high ∩ health=healthy) | 0.06 |\n",
        "\n",
        "\n",
        "### CPT for `forum_activity`\n",
        "| Probability         | Value\n",
        "| --- | --- |\n",
        "| P(forum_activity=inactive) | 0.3 |\n",
        "| P(forum_activity=active) | 0.7 |\n",
        "\n",
        "\n",
        "### CPT for `letter` given `grade` and `forum_activity`\n",
        "| Condition | Probability |\n",
        "| --- | --- |\n",
        "| P(letter=weak \\| grade=A ∩ forum_activity=inactive) | 0.1 |\n",
        "| P(letter=weak \\| grade=B ∩ forum_activity=inactive) | 0.3 |\n",
        "| P(letter=weak \\| grade=C ∩ forum_activity=inactive) | 0.6 |\n",
        "| P(letter=weak \\| grade=A ∩ forum_activity=active) | 0.05 |\n",
        "| P(letter=weak \\| grade=B ∩ forum_activity=active) | 0.2 |\n",
        "| P(letter=weak \\| grade=C ∩ forum_activity=active) | 0.4 |\n",
        "| P(letter=strong \\| grade=A ∩ forum_activity=inactive) | 0.9 |\n",
        "| P(letter=strong \\| grade=B ∩ forum_activity=inactive) | 0.7 |\n",
        "| P(letter=strong \\| grade=C ∩ forum_activity=inactive) | 0.4 |\n",
        "| P(letter=strong \\| grade=A ∩ forum_activity=active) | 0.95 |\n",
        "| P(letter=strong \\| grade=B ∩ forum_activity=active) | 0.8 |\n",
        "| P(letter=strong \\| grade=C ∩ forum_activity=active) | 0.6 |\n"
      ],
      "metadata": {
        "id": "6Zb3j1VOynQs"
      },
      "id": "6Zb3j1VOynQs"
    },
    {
      "cell_type": "markdown",
      "source": [
        "We use the TabularCPD class provided by the pgmpy library to build the distribution model of each random variable."
      ],
      "metadata": {
        "id": "PKc_Y7eglU8f"
      },
      "id": "PKc_Y7eglU8f"
    },
    {
      "cell_type": "code",
      "execution_count": null,
      "id": "c350d2fb",
      "metadata": {
        "id": "c350d2fb"
      },
      "outputs": [],
      "source": [
        "# your code goes here"
      ]
    },
    {
      "cell_type": "markdown",
      "id": "9fc20d41",
      "metadata": {
        "id": "9fc20d41"
      },
      "source": [
        "### Step 2.2: Associate the distribution models with the network structure (2%)"
      ]
    },
    {
      "cell_type": "code",
      "execution_count": null,
      "id": "b4241adf",
      "metadata": {
        "id": "b4241adf"
      },
      "outputs": [],
      "source": [
        "# your code goes here"
      ]
    },
    {
      "cell_type": "markdown",
      "id": "b6b85948",
      "metadata": {
        "id": "b6b85948"
      },
      "source": [
        "### Step 2.3: Check the model (2%)"
      ]
    },
    {
      "cell_type": "code",
      "execution_count": null,
      "id": "9c60a865",
      "metadata": {
        "id": "9c60a865"
      },
      "outputs": [],
      "source": [
        "# your code goes here"
      ]
    },
    {
      "cell_type": "markdown",
      "id": "ce96e2a3",
      "metadata": {
        "id": "ce96e2a3"
      },
      "source": [
        "## Step 3: Inference with the Bayesian Network (30%)"
      ]
    },
    {
      "cell_type": "markdown",
      "id": "5a52a7fa",
      "metadata": {
        "id": "5a52a7fa"
      },
      "source": [
        "### Step 3.1: Infer Posterior Probability of having a grade A if the evidence is a strong recommendation letter (10%)"
      ]
    },
    {
      "cell_type": "code",
      "execution_count": null,
      "id": "06b6fdc3",
      "metadata": {
        "id": "06b6fdc3"
      },
      "outputs": [],
      "source": [
        "# your code goes here"
      ]
    },
    {
      "cell_type": "code",
      "execution_count": null,
      "id": "308a9df3",
      "metadata": {
        "id": "308a9df3"
      },
      "outputs": [],
      "source": [
        "# show the posterior probability results\n",
        "# your code goes here"
      ]
    },
    {
      "cell_type": "markdown",
      "id": "9b258b7f",
      "metadata": {
        "id": "9b258b7f"
      },
      "source": [
        "### Step 3.2: Infer Prior Probability of having a strong recommendation letter with no evidence (10%)"
      ]
    },
    {
      "cell_type": "code",
      "execution_count": null,
      "id": "a1acf2f0",
      "metadata": {
        "id": "a1acf2f0"
      },
      "outputs": [],
      "source": [
        "# your code goes here"
      ]
    },
    {
      "cell_type": "code",
      "execution_count": null,
      "id": "98b85fc8",
      "metadata": {
        "id": "98b85fc8"
      },
      "outputs": [],
      "source": [
        "# show the prior probability results\n",
        "# your code goes here"
      ]
    },
    {
      "cell_type": "markdown",
      "id": "f8e8fba0",
      "metadata": {
        "id": "f8e8fba0"
      },
      "source": [
        "### Step 3.3: Infer Prior Probability of having a strong recommendation letter with a weak forum activity as a prior evidence (10%)"
      ]
    },
    {
      "cell_type": "code",
      "execution_count": null,
      "id": "806bbe99",
      "metadata": {
        "id": "806bbe99"
      },
      "outputs": [],
      "source": [
        "# your code goes here"
      ]
    },
    {
      "cell_type": "code",
      "execution_count": null,
      "id": "c403a277",
      "metadata": {
        "id": "c403a277"
      },
      "outputs": [],
      "source": [
        "# show the prior probability results\n",
        "# your code goes here"
      ]
    },
    {
      "cell_type": "code",
      "execution_count": null,
      "id": "53d447b3",
      "metadata": {
        "id": "53d447b3"
      },
      "outputs": [],
      "source": []
    }
  ],
  "metadata": {
    "kernelspec": {
      "display_name": "Python 3 (ipykernel)",
      "language": "python",
      "name": "python3"
    },
    "language_info": {
      "codemirror_mode": {
        "name": "ipython",
        "version": 3
      },
      "file_extension": ".py",
      "mimetype": "text/x-python",
      "name": "python",
      "nbconvert_exporter": "python",
      "pygments_lexer": "ipython3",
      "version": "3.9.7"
    },
    "colab": {
      "provenance": []
    }
  },
  "nbformat": 4,
  "nbformat_minor": 5
}